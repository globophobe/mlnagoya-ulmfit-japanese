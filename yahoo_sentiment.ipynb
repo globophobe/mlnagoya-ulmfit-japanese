{
  "nbformat": 4,
  "nbformat_minor": 0,
  "metadata": {
    "colab": {
      "name": "Copy of Copy of yahoo_sentiment.py",
      "version": "0.3.2",
      "provenance": [],
      "collapsed_sections": []
    },
    "kernelspec": {
      "name": "python3",
      "display_name": "Python 3"
    }
  },
  "cells": [
    {
      "cell_type": "code",
      "metadata": {
        "id": "dPGKkikM27DM",
        "colab_type": "code",
        "colab": {}
      },
      "source": [
        "!pip install sentencepiece\n",
        "\n",
        "import seaborn as sns\n",
        "from fastai.text import *\n",
        "from fastai.text.transform import Vocab\n",
        "\n",
        "sns.set()"
      ],
      "execution_count": 0,
      "outputs": []
    },
    {
      "cell_type": "code",
      "metadata": {
        "id": "YRfxdPrl4slU",
        "colab_type": "code",
        "colab": {}
      },
      "source": [
        "from google.colab import drive\n",
        "drive.mount('/content/drive', force_remount=True)"
      ],
      "execution_count": 0,
      "outputs": []
    },
    {
      "cell_type": "code",
      "metadata": {
        "id": "w8dYl04L3WFi",
        "colab_type": "code",
        "colab": {}
      },
      "source": [
        "# Language model data\n",
        "path = Path('drive/My Drive/data')\n",
        "path.ls()"
      ],
      "execution_count": 0,
      "outputs": []
    },
    {
      "cell_type": "code",
      "metadata": {
        "id": "3ZeTbI-f5vBy",
        "colab_type": "code",
        "outputId": "156e180b-5627-4735-fd95-37c7a12d5f9a",
        "colab": {
          "base_uri": "https://localhost:8080/",
          "height": 289
        }
      },
      "source": [
        "df = pd.read_json(path/'yahoo-movie-reviews.json')\n",
        "df.head()"
      ],
      "execution_count": 4,
      "outputs": [
        {
          "output_type": "execute_result",
          "data": {
            "text/html": [
              "<div>\n",
              "<style scoped>\n",
              "    .dataframe tbody tr th:only-of-type {\n",
              "        vertical-align: middle;\n",
              "    }\n",
              "\n",
              "    .dataframe tbody tr th {\n",
              "        vertical-align: top;\n",
              "    }\n",
              "\n",
              "    .dataframe thead th {\n",
              "        text-align: right;\n",
              "    }\n",
              "</style>\n",
              "<table border=\"1\" class=\"dataframe\">\n",
              "  <thead>\n",
              "    <tr style=\"text-align: right;\">\n",
              "      <th></th>\n",
              "      <th>date</th>\n",
              "      <th>movieName</th>\n",
              "      <th>movieUrl</th>\n",
              "      <th>rating</th>\n",
              "      <th>text</th>\n",
              "      <th>title</th>\n",
              "      <th>url</th>\n",
              "    </tr>\n",
              "  </thead>\n",
              "  <tbody>\n",
              "    <tr>\n",
              "      <th>0</th>\n",
              "      <td>2010年9月5日 17時55分</td>\n",
              "      <td>おくりびと</td>\n",
              "      <td>http://movies.yahoo.co.jp/movie/%E3%81%8A%E3%8...</td>\n",
              "      <td>3</td>\n",
              "      <td>を見れたのが意外な収穫でした♡\\n\\n邦画もたまには良いかな。</td>\n",
              "      <td>♡ヒロスエのパンツ♡</td>\n",
              "      <td>http://movies.yahoo.co.jp/movie/%E3%81%8A%E3%8...</td>\n",
              "    </tr>\n",
              "    <tr>\n",
              "      <th>1</th>\n",
              "      <td>2008年9月30日 10時03分</td>\n",
              "      <td>おくりびと</td>\n",
              "      <td>http://movies.yahoo.co.jp/movie/%E3%81%8A%E3%8...</td>\n",
              "      <td>2</td>\n",
              "      <td>映画館入口のパネルに『どの年齢で見るかでも感じ方が違う』みたいなウド鈴木のコメントを載せてあ...</td>\n",
              "      <td>(ﾟ-ﾟ)うーん</td>\n",
              "      <td>http://movies.yahoo.co.jp/movie/%E3%81%8A%E3%8...</td>\n",
              "    </tr>\n",
              "    <tr>\n",
              "      <th>2</th>\n",
              "      <td>2008年10月17日 2時23分</td>\n",
              "      <td>おくりびと</td>\n",
              "      <td>http://movies.yahoo.co.jp/movie/%E3%81%8A%E3%8...</td>\n",
              "      <td>5</td>\n",
              "      <td>終盤の、大悟が無くなった父親に最後の化粧を施すシーンが\\n印象的である。カメラは、大悟・父・...</td>\n",
              "      <td>“名作”と呼ばれる作品になるでしょう。</td>\n",
              "      <td>http://movies.yahoo.co.jp/movie/%E3%81%8A%E3%8...</td>\n",
              "    </tr>\n",
              "    <tr>\n",
              "      <th>3</th>\n",
              "      <td>2008年9月15日 13時29分</td>\n",
              "      <td>おくりびと</td>\n",
              "      <td>http://movies.yahoo.co.jp/movie/%E3%81%8A%E3%8...</td>\n",
              "      <td>5</td>\n",
              "      <td>予告を始めて観た時から、強烈に心に残り、公開が待ち遠しかったんだよね。\\nそしたら、ちょっと...</td>\n",
              "      <td>“死”を見つめる事で、“生”が際立つ</td>\n",
              "      <td>http://movies.yahoo.co.jp/movie/%E3%81%8A%E3%8...</td>\n",
              "    </tr>\n",
              "    <tr>\n",
              "      <th>4</th>\n",
              "      <td>2008年10月26日 22時49分</td>\n",
              "      <td>おくりびと</td>\n",
              "      <td>http://movies.yahoo.co.jp/movie/%E3%81%8A%E3%8...</td>\n",
              "      <td>4</td>\n",
              "      <td>とても「良い映画」でした。涙も沢山出ました。酒田の風景がとても素朴かつ美しく、日本でもまだこ...</td>\n",
              "      <td>“良い映画”です</td>\n",
              "      <td>http://movies.yahoo.co.jp/movie/%E3%81%8A%E3%8...</td>\n",
              "    </tr>\n",
              "  </tbody>\n",
              "</table>\n",
              "</div>"
            ],
            "text/plain": [
              "                 date  ...                                                url\n",
              "0    2010年9月5日 17時55分  ...  http://movies.yahoo.co.jp/movie/%E3%81%8A%E3%8...\n",
              "1   2008年9月30日 10時03分  ...  http://movies.yahoo.co.jp/movie/%E3%81%8A%E3%8...\n",
              "2   2008年10月17日 2時23分  ...  http://movies.yahoo.co.jp/movie/%E3%81%8A%E3%8...\n",
              "3   2008年9月15日 13時29分  ...  http://movies.yahoo.co.jp/movie/%E3%81%8A%E3%8...\n",
              "4  2008年10月26日 22時49分  ...  http://movies.yahoo.co.jp/movie/%E3%81%8A%E3%8...\n",
              "\n",
              "[5 rows x 7 columns]"
            ]
          },
          "metadata": {
            "tags": []
          },
          "execution_count": 4
        }
      ]
    },
    {
      "cell_type": "code",
      "metadata": {
        "id": "u496wVyV9edO",
        "colab_type": "code",
        "outputId": "b84a6c11-4195-46c6-f1f7-88e64663a9b4",
        "colab": {
          "base_uri": "https://localhost:8080/",
          "height": 34
        }
      },
      "source": [
        "len(df)"
      ],
      "execution_count": 5,
      "outputs": [
        {
          "output_type": "execute_result",
          "data": {
            "text/plain": [
              "91196"
            ]
          },
          "metadata": {
            "tags": []
          },
          "execution_count": 5
        }
      ]
    },
    {
      "cell_type": "code",
      "metadata": {
        "id": "AkKl_yj985sW",
        "colab_type": "code",
        "outputId": "d3be6ae0-2bd6-492d-bc49-faf9efbe4fe1",
        "colab": {
          "base_uri": "https://localhost:8080/",
          "height": 298
        }
      },
      "source": [
        "ratings = df['rating'].value_counts()\n",
        "ratings = ratings.sort_index()\n",
        "ratings.plot.bar(title='Ratings')"
      ],
      "execution_count": 6,
      "outputs": [
        {
          "output_type": "execute_result",
          "data": {
            "text/plain": [
              "<matplotlib.axes._subplots.AxesSubplot at 0x7ff3823896a0>"
            ]
          },
          "metadata": {
            "tags": []
          },
          "execution_count": 6
        },
        {
          "output_type": "display_data",
          "data": {
            "image/png": "[encoded data removed]",
            "text/plain": [
              "<Figure size 432x288 with 1 Axes>"
            ]
          },
          "metadata": {
            "tags": []
          }
        }
      ]
    },
    {
      "cell_type": "code",
      "metadata": {
        "id": "2AOGJ_ocAAX4",
        "colab_type": "code",
        "outputId": "c66ec43a-b32d-40c4-c170-ff60db721082",
        "colab": {
          "base_uri": "https://localhost:8080/",
          "height": 1000
        }
      },
      "source": [
        "movies = df['movieName'].value_counts()\n",
        "movies"
      ],
      "execution_count": 7,
      "outputs": [
        {
          "output_type": "execute_result",
          "data": {
            "text/plain": [
              "踊る大捜査線　THE MOVIE 3　ヤツらを解放せよ！      2453\n",
              "トランスフォーマー                         2399\n",
              "バベル                               2376\n",
              "おくりびと                             2310\n",
              "レッドクリフ Part I                     2154\n",
              "ヱヴァンゲリヲン新劇場版：破                    2063\n",
              "コクリコ坂から                           2039\n",
              "HERO                              1995\n",
              "ゼロ・グラビティ                          1919\n",
              "ミスト                               1918\n",
              "クローバーフィールド／HAKAISHA               1902\n",
              "スパイダーマン3                          1870\n",
              "パッチギ！　LOVE&PEACE                  1857\n",
              "インディ・ジョーンズ／クリスタル・スカルの王国           1827\n",
              "パイレーツ・オブ・カリビアン／デッドマンズ・チェスト        1803\n",
              "ダ・ヴィンチ・コード                        1780\n",
              "悪人                                1748\n",
              "GODZILLA　ゴジラ                      1735\n",
              "インセプション                           1733\n",
              "ターミネーター4                          1730\n",
              "ALWAYS　続・三丁目の夕日                   1729\n",
              "2012                              1710\n",
              "300 ＜スリーハンドレッド＞                   1703\n",
              "アリス・イン・ワンダーランド                    1703\n",
              "るろうに剣心                            1693\n",
              "DEATH NOTE　デスノート　the Last name    1668\n",
              "ブラック・スワン                          1667\n",
              "ザ・マジックアワー                         1648\n",
              "ダイ・ハード4.0                         1646\n",
              "20世紀少年                            1612\n",
              "                                  ... \n",
              "男たちの大和／YAMATO                     1573\n",
              "スラムドッグ＄ミリオネア                      1565\n",
              "パシフィック・リム                         1537\n",
              "思い出のマーニー                          1534\n",
              "ベンジャミン・バトン　数奇な人生                  1488\n",
              "るろうに剣心 伝説の最期編                     1450\n",
              "プラダを着た悪魔                          1445\n",
              "かぐや姫の物語                           1423\n",
              "インターステラー                          1398\n",
              "シャッター アイランド                       1394\n",
              "DEATH NOTE　デスノート                  1349\n",
              "るろうに剣心 京都大火編                      1279\n",
              "ショーシャンクの空に                        1261\n",
              "ベイマックス                            1217\n",
              "図書館戦争                             1021\n",
              "アベンジャーズ                            992\n",
              "シンデレラ                              620\n",
              "海街diary                            597\n",
              "アベンジャーズ／エイジ・オブ・ウルトロン               564\n",
              "図書館戦争 THE LAST MISSION             557\n",
              "天空の蜂                               522\n",
              "イニシエーション・ラブ                        510\n",
              "ワイルド・スピード　SKY　MISSION              478\n",
              "インサイド・ヘッド                          473\n",
              "マイ・インターン                           441\n",
              "心が叫びたがってるんだ。                       432\n",
              "セッション                              432\n",
              "予告犯                                408\n",
              "ヒロイン失格                             317\n",
              "ミッション：インポッシブル／ゴースト・プロトコル           150\n",
              "Name: movieName, Length: 64, dtype: int64"
            ]
          },
          "metadata": {
            "tags": []
          },
          "execution_count": 7
        }
      ]
    },
    {
      "cell_type": "code",
      "metadata": {
        "id": "5jqs5h0911jx",
        "colab_type": "code",
        "outputId": "84c3abce-9294-4209-cbc1-2b0e658fbe79",
        "colab": {
          "base_uri": "https://localhost:8080/",
          "height": 1000
        }
      },
      "source": [
        "group = df[['movieName', 'rating']].groupby('movieName').mean()\n",
        "group.sort_values(by='rating', ascending=False)"
      ],
      "execution_count": 8,
      "outputs": [
        {
          "output_type": "execute_result",
          "data": {
            "text/html": [
              "<div>\n",
              "<style scoped>\n",
              "    .dataframe tbody tr th:only-of-type {\n",
              "        vertical-align: middle;\n",
              "    }\n",
              "\n",
              "    .dataframe tbody tr th {\n",
              "        vertical-align: top;\n",
              "    }\n",
              "\n",
              "    .dataframe thead th {\n",
              "        text-align: right;\n",
              "    }\n",
              "</style>\n",
              "<table border=\"1\" class=\"dataframe\">\n",
              "  <thead>\n",
              "    <tr style=\"text-align: right;\">\n",
              "      <th></th>\n",
              "      <th>rating</th>\n",
              "    </tr>\n",
              "    <tr>\n",
              "      <th>movieName</th>\n",
              "      <th></th>\n",
              "    </tr>\n",
              "  </thead>\n",
              "  <tbody>\n",
              "    <tr>\n",
              "      <th>ショーシャンクの空に</th>\n",
              "      <td>4.595559</td>\n",
              "    </tr>\n",
              "    <tr>\n",
              "      <th>ヱヴァンゲリヲン新劇場版：破</th>\n",
              "      <td>4.473582</td>\n",
              "    </tr>\n",
              "    <tr>\n",
              "      <th>おくりびと</th>\n",
              "      <td>4.342424</td>\n",
              "    </tr>\n",
              "    <tr>\n",
              "      <th>ワイルド・スピード　SKY　MISSION</th>\n",
              "      <td>4.299163</td>\n",
              "    </tr>\n",
              "    <tr>\n",
              "      <th>それでもボクはやってない</th>\n",
              "      <td>4.275949</td>\n",
              "    </tr>\n",
              "    <tr>\n",
              "      <th>シンデレラ</th>\n",
              "      <td>4.264516</td>\n",
              "    </tr>\n",
              "    <tr>\n",
              "      <th>ベイマックス</th>\n",
              "      <td>4.229252</td>\n",
              "    </tr>\n",
              "    <tr>\n",
              "      <th>ミッション：インポッシブル／ゴースト・プロトコル</th>\n",
              "      <td>4.220000</td>\n",
              "    </tr>\n",
              "    <tr>\n",
              "      <th>マイ・インターン</th>\n",
              "      <td>4.176871</td>\n",
              "    </tr>\n",
              "    <tr>\n",
              "      <th>図書館戦争 THE LAST MISSION</th>\n",
              "      <td>4.140036</td>\n",
              "    </tr>\n",
              "    <tr>\n",
              "      <th>スラムドッグ＄ミリオネア</th>\n",
              "      <td>4.130351</td>\n",
              "    </tr>\n",
              "    <tr>\n",
              "      <th>セッション</th>\n",
              "      <td>4.122685</td>\n",
              "    </tr>\n",
              "    <tr>\n",
              "      <th>インターステラー</th>\n",
              "      <td>4.105866</td>\n",
              "    </tr>\n",
              "    <tr>\n",
              "      <th>パシフィック・リム</th>\n",
              "      <td>4.103448</td>\n",
              "    </tr>\n",
              "    <tr>\n",
              "      <th>DEATH NOTE　デスノート　the Last name</th>\n",
              "      <td>4.067146</td>\n",
              "    </tr>\n",
              "    <tr>\n",
              "      <th>心が叫びたがってるんだ。</th>\n",
              "      <td>4.057870</td>\n",
              "    </tr>\n",
              "    <tr>\n",
              "      <th>プラダを着た悪魔</th>\n",
              "      <td>4.029758</td>\n",
              "    </tr>\n",
              "    <tr>\n",
              "      <th>ダイ・ハード4.0</th>\n",
              "      <td>4.022479</td>\n",
              "    </tr>\n",
              "    <tr>\n",
              "      <th>インセプション</th>\n",
              "      <td>4.013849</td>\n",
              "    </tr>\n",
              "    <tr>\n",
              "      <th>LIMIT OF LOVE　海猿</th>\n",
              "      <td>4.010572</td>\n",
              "    </tr>\n",
              "    <tr>\n",
              "      <th>ALWAYS　続・三丁目の夕日</th>\n",
              "      <td>3.945055</td>\n",
              "    </tr>\n",
              "    <tr>\n",
              "      <th>ザ・マジックアワー</th>\n",
              "      <td>3.938714</td>\n",
              "    </tr>\n",
              "    <tr>\n",
              "      <th>るろうに剣心</th>\n",
              "      <td>3.919669</td>\n",
              "    </tr>\n",
              "    <tr>\n",
              "      <th>ベンジャミン・バトン　数奇な人生</th>\n",
              "      <td>3.909274</td>\n",
              "    </tr>\n",
              "    <tr>\n",
              "      <th>第9地区</th>\n",
              "      <td>3.902821</td>\n",
              "    </tr>\n",
              "    <tr>\n",
              "      <th>アベンジャーズ</th>\n",
              "      <td>3.875000</td>\n",
              "    </tr>\n",
              "    <tr>\n",
              "      <th>天空の蜂</th>\n",
              "      <td>3.863985</td>\n",
              "    </tr>\n",
              "    <tr>\n",
              "      <th>るろうに剣心 京都大火編</th>\n",
              "      <td>3.854574</td>\n",
              "    </tr>\n",
              "    <tr>\n",
              "      <th>男たちの大和／YAMATO</th>\n",
              "      <td>3.853147</td>\n",
              "    </tr>\n",
              "    <tr>\n",
              "      <th>悪人</th>\n",
              "      <td>3.834096</td>\n",
              "    </tr>\n",
              "    <tr>\n",
              "      <th>...</th>\n",
              "      <td>...</td>\n",
              "    </tr>\n",
              "    <tr>\n",
              "      <th>ゼロ・グラビティ</th>\n",
              "      <td>3.788953</td>\n",
              "    </tr>\n",
              "    <tr>\n",
              "      <th>ゴールデンスランバー</th>\n",
              "      <td>3.754386</td>\n",
              "    </tr>\n",
              "    <tr>\n",
              "      <th>海街diary</th>\n",
              "      <td>3.698492</td>\n",
              "    </tr>\n",
              "    <tr>\n",
              "      <th>DEATH NOTE　デスノート</th>\n",
              "      <td>3.639733</td>\n",
              "    </tr>\n",
              "    <tr>\n",
              "      <th>イニシエーション・ラブ</th>\n",
              "      <td>3.623529</td>\n",
              "    </tr>\n",
              "    <tr>\n",
              "      <th>予告犯</th>\n",
              "      <td>3.620098</td>\n",
              "    </tr>\n",
              "    <tr>\n",
              "      <th>トランスフォーマー</th>\n",
              "      <td>3.605252</td>\n",
              "    </tr>\n",
              "    <tr>\n",
              "      <th>パイレーツ・オブ・カリビアン／デッドマンズ・チェスト</th>\n",
              "      <td>3.602884</td>\n",
              "    </tr>\n",
              "    <tr>\n",
              "      <th>ターミネーター4</th>\n",
              "      <td>3.585549</td>\n",
              "    </tr>\n",
              "    <tr>\n",
              "      <th>スパイダーマン3</th>\n",
              "      <td>3.581818</td>\n",
              "    </tr>\n",
              "    <tr>\n",
              "      <th>アベンジャーズ／エイジ・オブ・ウルトロン</th>\n",
              "      <td>3.558511</td>\n",
              "    </tr>\n",
              "    <tr>\n",
              "      <th>インサイド・ヘッド</th>\n",
              "      <td>3.547569</td>\n",
              "    </tr>\n",
              "    <tr>\n",
              "      <th>シャッター アイランド</th>\n",
              "      <td>3.481349</td>\n",
              "    </tr>\n",
              "    <tr>\n",
              "      <th>HERO</th>\n",
              "      <td>3.434586</td>\n",
              "    </tr>\n",
              "    <tr>\n",
              "      <th>300 ＜スリーハンドレッド＞</th>\n",
              "      <td>3.405167</td>\n",
              "    </tr>\n",
              "    <tr>\n",
              "      <th>コクリコ坂から</th>\n",
              "      <td>3.396763</td>\n",
              "    </tr>\n",
              "    <tr>\n",
              "      <th>ミスト</th>\n",
              "      <td>3.394682</td>\n",
              "    </tr>\n",
              "    <tr>\n",
              "      <th>インディ・ジョーンズ／クリスタル・スカルの王国</th>\n",
              "      <td>3.381500</td>\n",
              "    </tr>\n",
              "    <tr>\n",
              "      <th>20世紀少年</th>\n",
              "      <td>3.353598</td>\n",
              "    </tr>\n",
              "    <tr>\n",
              "      <th>GODZILLA　ゴジラ</th>\n",
              "      <td>3.314697</td>\n",
              "    </tr>\n",
              "    <tr>\n",
              "      <th>2012</th>\n",
              "      <td>3.267836</td>\n",
              "    </tr>\n",
              "    <tr>\n",
              "      <th>レッドクリフ Part I</th>\n",
              "      <td>3.253482</td>\n",
              "    </tr>\n",
              "    <tr>\n",
              "      <th>るろうに剣心 伝説の最期編</th>\n",
              "      <td>3.250345</td>\n",
              "    </tr>\n",
              "    <tr>\n",
              "      <th>アリス・イン・ワンダーランド</th>\n",
              "      <td>3.132120</td>\n",
              "    </tr>\n",
              "    <tr>\n",
              "      <th>ヒロイン失格</th>\n",
              "      <td>3.113565</td>\n",
              "    </tr>\n",
              "    <tr>\n",
              "      <th>クローバーフィールド／HAKAISHA</th>\n",
              "      <td>3.107781</td>\n",
              "    </tr>\n",
              "    <tr>\n",
              "      <th>ダ・ヴィンチ・コード</th>\n",
              "      <td>3.042135</td>\n",
              "    </tr>\n",
              "    <tr>\n",
              "      <th>バベル</th>\n",
              "      <td>3.018098</td>\n",
              "    </tr>\n",
              "    <tr>\n",
              "      <th>踊る大捜査線　THE MOVIE 3　ヤツらを解放せよ！</th>\n",
              "      <td>2.409702</td>\n",
              "    </tr>\n",
              "    <tr>\n",
              "      <th>パッチギ！　LOVE&amp;PEACE</th>\n",
              "      <td>1.659128</td>\n",
              "    </tr>\n",
              "  </tbody>\n",
              "</table>\n",
              "<p>64 rows × 1 columns</p>\n",
              "</div>"
            ],
            "text/plain": [
              "                                  rating\n",
              "movieName                               \n",
              "ショーシャンクの空に                      4.595559\n",
              "ヱヴァンゲリヲン新劇場版：破                  4.473582\n",
              "おくりびと                           4.342424\n",
              "ワイルド・スピード　SKY　MISSION           4.299163\n",
              "それでもボクはやってない                    4.275949\n",
              "シンデレラ                           4.264516\n",
              "ベイマックス                          4.229252\n",
              "ミッション：インポッシブル／ゴースト・プロトコル        4.220000\n",
              "マイ・インターン                        4.176871\n",
              "図書館戦争 THE LAST MISSION          4.140036\n",
              "スラムドッグ＄ミリオネア                    4.130351\n",
              "セッション                           4.122685\n",
              "インターステラー                        4.105866\n",
              "パシフィック・リム                       4.103448\n",
              "DEATH NOTE　デスノート　the Last name  4.067146\n",
              "心が叫びたがってるんだ。                    4.057870\n",
              "プラダを着た悪魔                        4.029758\n",
              "ダイ・ハード4.0                       4.022479\n",
              "インセプション                         4.013849\n",
              "LIMIT OF LOVE　海猿                4.010572\n",
              "ALWAYS　続・三丁目の夕日                 3.945055\n",
              "ザ・マジックアワー                       3.938714\n",
              "るろうに剣心                          3.919669\n",
              "ベンジャミン・バトン　数奇な人生                3.909274\n",
              "第9地区                            3.902821\n",
              "アベンジャーズ                         3.875000\n",
              "天空の蜂                            3.863985\n",
              "るろうに剣心 京都大火編                    3.854574\n",
              "男たちの大和／YAMATO                   3.853147\n",
              "悪人                              3.834096\n",
              "...                                  ...\n",
              "ゼロ・グラビティ                        3.788953\n",
              "ゴールデンスランバー                      3.754386\n",
              "海街diary                         3.698492\n",
              "DEATH NOTE　デスノート                3.639733\n",
              "イニシエーション・ラブ                     3.623529\n",
              "予告犯                             3.620098\n",
              "トランスフォーマー                       3.605252\n",
              "パイレーツ・オブ・カリビアン／デッドマンズ・チェスト      3.602884\n",
              "ターミネーター4                        3.585549\n",
              "スパイダーマン3                        3.581818\n",
              "アベンジャーズ／エイジ・オブ・ウルトロン            3.558511\n",
              "インサイド・ヘッド                       3.547569\n",
              "シャッター アイランド                     3.481349\n",
              "HERO                            3.434586\n",
              "300 ＜スリーハンドレッド＞                 3.405167\n",
              "コクリコ坂から                         3.396763\n",
              "ミスト                             3.394682\n",
              "インディ・ジョーンズ／クリスタル・スカルの王国         3.381500\n",
              "20世紀少年                          3.353598\n",
              "GODZILLA　ゴジラ                    3.314697\n",
              "2012                            3.267836\n",
              "レッドクリフ Part I                   3.253482\n",
              "るろうに剣心 伝説の最期編                   3.250345\n",
              "アリス・イン・ワンダーランド                  3.132120\n",
              "ヒロイン失格                          3.113565\n",
              "クローバーフィールド／HAKAISHA             3.107781\n",
              "ダ・ヴィンチ・コード                      3.042135\n",
              "バベル                             3.018098\n",
              "踊る大捜査線　THE MOVIE 3　ヤツらを解放せよ！    2.409702\n",
              "パッチギ！　LOVE&PEACE                1.659128\n",
              "\n",
              "[64 rows x 1 columns]"
            ]
          },
          "metadata": {
            "tags": []
          },
          "execution_count": 8
        }
      ]
    },
    {
      "cell_type": "code",
      "metadata": {
        "id": "G2JuurMZ35wk",
        "colab_type": "code",
        "colab": {}
      },
      "source": [
        "df['length'] = df['text'].apply(len)"
      ],
      "execution_count": 0,
      "outputs": []
    },
    {
      "cell_type": "code",
      "metadata": {
        "id": "G4S1rIjB_gDo",
        "colab_type": "code",
        "outputId": "0dd552ba-2cee-43da-fbbe-95453fc19f10",
        "colab": {
          "base_uri": "https://localhost:8080/",
          "height": 266
        }
      },
      "source": [
        "stats = df[['rating', 'length']].groupby('rating').describe()\n",
        "stats.head()"
      ],
      "execution_count": 10,
      "outputs": [
        {
          "output_type": "execute_result",
          "data": {
            "text/html": [
              "<div>\n",
              "<style scoped>\n",
              "    .dataframe tbody tr th:only-of-type {\n",
              "        vertical-align: middle;\n",
              "    }\n",
              "\n",
              "    .dataframe tbody tr th {\n",
              "        vertical-align: top;\n",
              "    }\n",
              "\n",
              "    .dataframe thead tr th {\n",
              "        text-align: left;\n",
              "    }\n",
              "\n",
              "    .dataframe thead tr:last-of-type th {\n",
              "        text-align: right;\n",
              "    }\n",
              "</style>\n",
              "<table border=\"1\" class=\"dataframe\">\n",
              "  <thead>\n",
              "    <tr>\n",
              "      <th></th>\n",
              "      <th colspan=\"8\" halign=\"left\">length</th>\n",
              "    </tr>\n",
              "    <tr>\n",
              "      <th></th>\n",
              "      <th>count</th>\n",
              "      <th>mean</th>\n",
              "      <th>std</th>\n",
              "      <th>min</th>\n",
              "      <th>25%</th>\n",
              "      <th>50%</th>\n",
              "      <th>75%</th>\n",
              "      <th>max</th>\n",
              "    </tr>\n",
              "    <tr>\n",
              "      <th>rating</th>\n",
              "      <th></th>\n",
              "      <th></th>\n",
              "      <th></th>\n",
              "      <th></th>\n",
              "      <th></th>\n",
              "      <th></th>\n",
              "      <th></th>\n",
              "      <th></th>\n",
              "    </tr>\n",
              "  </thead>\n",
              "  <tbody>\n",
              "    <tr>\n",
              "      <th>1</th>\n",
              "      <td>9803.0</td>\n",
              "      <td>245.189636</td>\n",
              "      <td>285.485951</td>\n",
              "      <td>1.0</td>\n",
              "      <td>68.0</td>\n",
              "      <td>151.0</td>\n",
              "      <td>310.0</td>\n",
              "      <td>2104.0</td>\n",
              "    </tr>\n",
              "    <tr>\n",
              "      <th>2</th>\n",
              "      <td>9288.0</td>\n",
              "      <td>324.295112</td>\n",
              "      <td>317.731180</td>\n",
              "      <td>1.0</td>\n",
              "      <td>125.0</td>\n",
              "      <td>224.0</td>\n",
              "      <td>408.0</td>\n",
              "      <td>2093.0</td>\n",
              "    </tr>\n",
              "    <tr>\n",
              "      <th>3</th>\n",
              "      <td>15652.0</td>\n",
              "      <td>344.414260</td>\n",
              "      <td>318.670085</td>\n",
              "      <td>1.0</td>\n",
              "      <td>137.0</td>\n",
              "      <td>246.0</td>\n",
              "      <td>437.0</td>\n",
              "      <td>2067.0</td>\n",
              "    </tr>\n",
              "    <tr>\n",
              "      <th>4</th>\n",
              "      <td>24604.0</td>\n",
              "      <td>365.268615</td>\n",
              "      <td>334.555634</td>\n",
              "      <td>1.0</td>\n",
              "      <td>146.0</td>\n",
              "      <td>261.0</td>\n",
              "      <td>463.0</td>\n",
              "      <td>2317.0</td>\n",
              "    </tr>\n",
              "    <tr>\n",
              "      <th>5</th>\n",
              "      <td>31849.0</td>\n",
              "      <td>343.936262</td>\n",
              "      <td>358.901383</td>\n",
              "      <td>0.0</td>\n",
              "      <td>115.0</td>\n",
              "      <td>225.0</td>\n",
              "      <td>429.0</td>\n",
              "      <td>2242.0</td>\n",
              "    </tr>\n",
              "  </tbody>\n",
              "</table>\n",
              "</div>"
            ],
            "text/plain": [
              "         length                                                          \n",
              "          count        mean         std  min    25%    50%    75%     max\n",
              "rating                                                                   \n",
              "1        9803.0  245.189636  285.485951  1.0   68.0  151.0  310.0  2104.0\n",
              "2        9288.0  324.295112  317.731180  1.0  125.0  224.0  408.0  2093.0\n",
              "3       15652.0  344.414260  318.670085  1.0  137.0  246.0  437.0  2067.0\n",
              "4       24604.0  365.268615  334.555634  1.0  146.0  261.0  463.0  2317.0\n",
              "5       31849.0  343.936262  358.901383  0.0  115.0  225.0  429.0  2242.0"
            ]
          },
          "metadata": {
            "tags": []
          },
          "execution_count": 10
        }
      ]
    },
    {
      "cell_type": "code",
      "metadata": {
        "id": "p74Ayk9IKHop",
        "colab_type": "code",
        "outputId": "2a15984d-fa23-4939-f659-ad238e3afffa",
        "colab": {
          "base_uri": "https://localhost:8080/",
          "height": 34
        }
      },
      "source": [
        "positive = df[(df['rating'] == 5) & (df['length'] > 100)].copy()\n",
        "positive['rating'] = 'positive'\n",
        "pos = positive.sample(5000)\n",
        "len(pos)"
      ],
      "execution_count": 11,
      "outputs": [
        {
          "output_type": "execute_result",
          "data": {
            "text/plain": [
              "5000"
            ]
          },
          "metadata": {
            "tags": []
          },
          "execution_count": 11
        }
      ]
    },
    {
      "cell_type": "code",
      "metadata": {
        "id": "o10DCWnPPMLw",
        "colab_type": "code",
        "outputId": "65d35bce-95eb-4894-f656-02b739deb282",
        "colab": {
          "base_uri": "https://localhost:8080/",
          "height": 34
        }
      },
      "source": [
        "negative = df[(df['rating'] == 1) & (df['length'] > 100)].copy()\n",
        "negative['rating'] = 'negative'\n",
        "neg = negative.sample(5000)\n",
        "len(neg)"
      ],
      "execution_count": 12,
      "outputs": [
        {
          "output_type": "execute_result",
          "data": {
            "text/plain": [
              "5000"
            ]
          },
          "metadata": {
            "tags": []
          },
          "execution_count": 12
        }
      ]
    },
    {
      "cell_type": "code",
      "metadata": {
        "id": "eL-v9Ye6_lVR",
        "colab_type": "code",
        "outputId": "585059d0-12b0-4dd0-ce32-053ecea693e0",
        "colab": {
          "base_uri": "https://localhost:8080/",
          "height": 204
        }
      },
      "source": [
        "sample = pd.concat([pos, neg])\n",
        "sample = sample[['text', 'rating']]\n",
        "# sample = sample.replace(r'\\n',' ', regex=True)\n",
        "sample.head()"
      ],
      "execution_count": 13,
      "outputs": [
        {
          "output_type": "execute_result",
          "data": {
            "text/html": [
              "<div>\n",
              "<style scoped>\n",
              "    .dataframe tbody tr th:only-of-type {\n",
              "        vertical-align: middle;\n",
              "    }\n",
              "\n",
              "    .dataframe tbody tr th {\n",
              "        vertical-align: top;\n",
              "    }\n",
              "\n",
              "    .dataframe thead th {\n",
              "        text-align: right;\n",
              "    }\n",
              "</style>\n",
              "<table border=\"1\" class=\"dataframe\">\n",
              "  <thead>\n",
              "    <tr style=\"text-align: right;\">\n",
              "      <th></th>\n",
              "      <th>text</th>\n",
              "      <th>rating</th>\n",
              "    </tr>\n",
              "  </thead>\n",
              "  <tbody>\n",
              "    <tr>\n",
              "      <th>14196</th>\n",
              "      <td>伏線張りまくりのストーリーを圧倒的な映像と音楽で\\n表現しています。ほんとよく作ったなーと思...</td>\n",
              "      <td>positive</td>\n",
              "    </tr>\n",
              "    <tr>\n",
              "      <th>56487</th>\n",
              "      <td>アン・ハサウェイの経営する会社のオフィスがとーっても\\n素敵なインテリアで見ててうっとりしち...</td>\n",
              "      <td>positive</td>\n",
              "    </tr>\n",
              "    <tr>\n",
              "      <th>15099</th>\n",
              "      <td>俺的には最初はちょっと理解できない所があり\\nこれ結構難しい系の映画かなと思いました。\\nで...</td>\n",
              "      <td>positive</td>\n",
              "    </tr>\n",
              "    <tr>\n",
              "      <th>62416</th>\n",
              "      <td>ストーリーはこれ見る前にすでに旧作を見ようが序しか見てなかろうが大方予想できます。\\nなぜこ...</td>\n",
              "      <td>positive</td>\n",
              "    </tr>\n",
              "    <tr>\n",
              "      <th>15215</th>\n",
              "      <td>いったいどんな映画なのか。。。\\nと、楽しみに見に行った。\\n\\nいやーー\\nこれこれ。\\n...</td>\n",
              "      <td>positive</td>\n",
              "    </tr>\n",
              "  </tbody>\n",
              "</table>\n",
              "</div>"
            ],
            "text/plain": [
              "                                                    text    rating\n",
              "14196  伏線張りまくりのストーリーを圧倒的な映像と音楽で\\n表現しています。ほんとよく作ったなーと思...  positive\n",
              "56487  アン・ハサウェイの経営する会社のオフィスがとーっても\\n素敵なインテリアで見ててうっとりしち...  positive\n",
              "15099  俺的には最初はちょっと理解できない所があり\\nこれ結構難しい系の映画かなと思いました。\\nで...  positive\n",
              "62416  ストーリーはこれ見る前にすでに旧作を見ようが序しか見てなかろうが大方予想できます。\\nなぜこ...  positive\n",
              "15215  いったいどんな映画なのか。。。\\nと、楽しみに見に行った。\\n\\nいやーー\\nこれこれ。\\n...  positive"
            ]
          },
          "metadata": {
            "tags": []
          },
          "execution_count": 13
        }
      ]
    },
    {
      "cell_type": "code",
      "metadata": {
        "id": "xNJIYJ4mK9xU",
        "colab_type": "code",
        "colab": {}
      },
      "source": [
        "sample.to_csv(path/'yahoo-movie-reviews.csv', index=False)"
      ],
      "execution_count": 0,
      "outputs": []
    },
    {
      "cell_type": "code",
      "metadata": {
        "id": "THV3M7wrwPy4",
        "colab_type": "code",
        "colab": {}
      },
      "source": [
        "class SentencepieceTokenizer(BaseTokenizer):\n",
        "    def __init__(self, lang: str='ja'):\n",
        "        try:\n",
        "            import sentencepiece as spm  \n",
        "        except ImportError:\n",
        "            raise Exception('sentencepiece module is missing: run `pip install sentencepiece`')\n",
        "        self.tok = spm.SentencePieceProcessor()\n",
        "        self.tok.Load(str(path/'spm.model'))\n",
        "    \n",
        "    def tokenizer(self, t:str) -> List[str]:\n",
        "        return self.tok.EncodeAsPieces(t)"
      ],
      "execution_count": 0,
      "outputs": []
    },
    {
      "cell_type": "code",
      "metadata": {
        "id": "eU058Q4mwlyE",
        "colab_type": "code",
        "outputId": "bc828b95-5c92-432b-f7e9-dadf785f5fc7",
        "colab": {
          "base_uri": "https://localhost:8080/",
          "height": 34
        }
      },
      "source": [
        "sent = SentencepieceTokenizer()\n",
        "sent.tokenizer('ムービークリニックにようこそ。')"
      ],
      "execution_count": 16,
      "outputs": [
        {
          "output_type": "execute_result",
          "data": {
            "text/plain": [
              "['▁', 'ムービー', 'クリ', 'ニック', 'に', 'よう', 'こそ', '。']"
            ]
          },
          "metadata": {
            "tags": []
          },
          "execution_count": 16
        }
      ]
    },
    {
      "cell_type": "code",
      "metadata": {
        "id": "sWMSqwpFRZa8",
        "colab_type": "code",
        "colab": {}
      },
      "source": [
        "tok = Tokenizer(tok_func=SentencepieceTokenizer)\n",
        "vocab = Vocab(pickle.load(open(path/'models'/'itos_wt-2.pkl', 'rb')))"
      ],
      "execution_count": 0,
      "outputs": []
    },
    {
      "cell_type": "code",
      "metadata": {
        "id": "Dv5FAwa5LPzG",
        "colab_type": "code",
        "colab": {}
      },
      "source": [
        "# Language model data\n",
        "data_lm = TextLMDataBunch.from_csv(path, 'yahoo-movie-reviews.csv', tokenizer=tok, vocab=vocab, text_cols='text', label_cols=\"rating\")"
      ],
      "execution_count": 0,
      "outputs": []
    },
    {
      "cell_type": "code",
      "metadata": {
        "id": "zKt9h1Jb2t4H",
        "colab_type": "code",
        "colab": {}
      },
      "source": [
        "# Classifier model data\n",
        "data_clas = TextClasDataBunch.from_csv(path, 'yahoo-movie-reviews.csv', tokenizer=tok, vocab=data_lm.train_ds.vocab, text_cols='text', label_cols=\"rating\", bs=32)"
      ],
      "execution_count": 0,
      "outputs": []
    },
    {
      "cell_type": "code",
      "metadata": {
        "id": "1ODjZa41PAbK",
        "colab_type": "code",
        "outputId": "3ecd57e7-4243-44a8-8ead-aa2e97313fdb",
        "colab": {
          "base_uri": "https://localhost:8080/",
          "height": 289
        }
      },
      "source": [
        "data_lm.show_batch()"
      ],
      "execution_count": 20,
      "outputs": [
        {
          "output_type": "display_data",
          "data": {
            "text/html": [
              "<table border=\"1\" class=\"dataframe\">\n",
              "  <thead>\n",
              "    <tr style=\"text-align: right;\">\n",
              "      <th>idx</th>\n",
              "      <th>text</th>\n",
              "    </tr>\n",
              "  </thead>\n",
              "  <tbody>\n",
              "    <tr>\n",
              "      <td>0</td>\n",
              "      <td>ように イ ・ ビ ョ ン ホン が &lt;unk&gt; の にも 腹 が 立った 。 見る ん じゃ なかった 。 ▁ 木村 拓 哉 と 松 たか 子の コンビ だけ は 良 かった 。 これ だけで 救 われる かな 。 いずれ に しても お 金 払 って 見 &lt;unk&gt; 映画 &lt;unk&gt; &lt;unk&gt; 。 ▁ xxbos ▁ &lt;unk&gt; &lt;unk&gt; ことが すべて で 新たに 情報 &lt;unk&gt; ない 、 &lt;unk&gt; 盾 &lt;unk&gt; &lt;unk&gt;</td>\n",
              "    </tr>\n",
              "    <tr>\n",
              "      <td>1</td>\n",
              "      <td>感 動 ▁ 見 &lt;unk&gt; 後に は 、 ▁ &lt;unk&gt; 観 まで も を 深く 考え させ られる 。 ▁ &lt;unk&gt; &lt;unk&gt; 映画 に出 会 えて &lt;unk&gt; 良 かった 。 ▁ &lt;unk&gt; &lt;unk&gt; 即 買 です ! ▁ xxbos ▁ さ て 、 配給 が タイム &lt;unk&gt; で &lt;unk&gt; だけ 監督 と 日本 らしい 映画 が 作 れた の であろう 。 ▁ まず 、 前作 に比べて お 金 が &lt;unk&gt;</td>\n",
              "    </tr>\n",
              "    <tr>\n",
              "      <td>2</td>\n",
              "      <td>▁ xxbos ▁ &lt;unk&gt; 情報 &lt;unk&gt; 時には テン ション 上がり ま &lt;unk&gt; 、 &lt;unk&gt; も 毎日 見る ほど &lt;unk&gt; に しており 、 今 年 の ベスト 映画 &lt;unk&gt; &lt;unk&gt; で 劇場 に 向かい &lt;unk&gt; が 、 &lt;unk&gt; から 言う と 実 に 残 念 な 作品 で した 。 ▁ 私 が 物 心 ついた 頃 の &lt;unk&gt; 映画 と &lt;unk&gt; 「 &lt;unk&gt; &lt;unk&gt; シリーズ 」 であり 、 幼少 時に</td>\n",
              "    </tr>\n",
              "    <tr>\n",
              "      <td>3</td>\n",
              "      <td>を &lt;unk&gt; 心 の や る せ な さ &lt;unk&gt; に 泣 いた の であった 。 ▁ これは 、 &lt;unk&gt; &lt;unk&gt; 作 法 &lt;unk&gt; &lt;unk&gt; 映画 だった の だ 。 ▁本 木 雅 弘 演 &lt;unk&gt; 「 納 &lt;unk&gt; 師 」 の 所 作 の 美 &lt;unk&gt; と言った ら 、 &lt;unk&gt; &lt;unk&gt; 能 舞台 &lt;unk&gt; を 観 &lt;unk&gt; の 如 き 感 があった 。 ▁ 無 論 、 感 動</td>\n",
              "    </tr>\n",
              "    <tr>\n",
              "      <td>4</td>\n",
              "      <td>前作 の 1 ～ 3 を見て 知識 をつけ また 4 を 観 たい &lt;unk&gt; ます !」 ▁ xxbos ▁ もう 見 &lt;unk&gt; た 感 のある 破 滅 的 &lt;unk&gt; &lt;unk&gt; と ダ メ な 映画 を 盛り 上げる 為 だけ に 死 んで いく 人 達 。 ▁この 手 の 映画 だと は 思 って &lt;unk&gt; したが ここ まで ストーリー が スカ スカ だと は 思い &lt;unk&gt; で した 。</td>\n",
              "    </tr>\n",
              "  </tbody>\n",
              "</table>"
            ],
            "text/plain": [
              "<IPython.core.display.HTML object>"
            ]
          },
          "metadata": {
            "tags": []
          }
        }
      ]
    },
    {
      "cell_type": "code",
      "metadata": {
        "id": "V0AvP3HCf3oZ",
        "colab_type": "code",
        "colab": {}
      },
      "source": [
        "data_lm.save('data_lm_export.pkl')\n",
        "data_clas.save('data_clas_export.pkl')"
      ],
      "execution_count": 0,
      "outputs": []
    },
    {
      "cell_type": "code",
      "metadata": {
        "id": "okiVJJmCh14n",
        "colab_type": "code",
        "colab": {}
      },
      "source": [
        "data_lm = load_data(path, 'data_lm_export.pkl')"
      ],
      "execution_count": 0,
      "outputs": []
    },
    {
      "cell_type": "code",
      "metadata": {
        "id": "MzVHwwnw_JJV",
        "colab_type": "code",
        "colab": {}
      },
      "source": [
        "learn = language_model_learner(data_lm, AWD_LSTM, pretrained_fnames=('qrnn_wt-2', 'itos_wt-2'), drop_mult=0.5)"
      ],
      "execution_count": 0,
      "outputs": []
    },
    {
      "cell_type": "code",
      "metadata": {
        "id": "3jB2X-tj4QRa",
        "colab_type": "code",
        "outputId": "0ad255e1-c47b-4605-e351-749e3524e5c0",
        "colab": {
          "base_uri": "https://localhost:8080/",
          "height": 80
        }
      },
      "source": [
        "learn.fit_one_cycle(1, 1e-2)"
      ],
      "execution_count": 24,
      "outputs": [
        {
          "output_type": "display_data",
          "data": {
            "text/html": [
              "<table border=\"1\" class=\"dataframe\">\n",
              "  <thead>\n",
              "    <tr style=\"text-align: left;\">\n",
              "      <th>epoch</th>\n",
              "      <th>train_loss</th>\n",
              "      <th>valid_loss</th>\n",
              "      <th>accuracy</th>\n",
              "      <th>time</th>\n",
              "    </tr>\n",
              "  </thead>\n",
              "  <tbody>\n",
              "    <tr>\n",
              "      <td>0</td>\n",
              "      <td>4.590764</td>\n",
              "      <td>4.487607</td>\n",
              "      <td>0.243777</td>\n",
              "      <td>1:20:02</td>\n",
              "    </tr>\n",
              "  </tbody>\n",
              "</table>"
            ],
            "text/plain": [
              "<IPython.core.display.HTML object>"
            ]
          },
          "metadata": {
            "tags": []
          }
        }
      ]
    },
    {
      "cell_type": "code",
      "metadata": {
        "id": "zS21f8XsqiHu",
        "colab_type": "code",
        "outputId": "285c13ec-87e9-4e63-8dcc-a1e88269012a",
        "colab": {
          "base_uri": "https://localhost:8080/",
          "height": 80
        }
      },
      "source": [
        "learn.unfreeze()\n",
        "learn.fit_one_cycle(1, 1e-3)"
      ],
      "execution_count": 25,
      "outputs": [
        {
          "output_type": "display_data",
          "data": {
            "text/html": [
              "<table border=\"1\" class=\"dataframe\">\n",
              "  <thead>\n",
              "    <tr style=\"text-align: left;\">\n",
              "      <th>epoch</th>\n",
              "      <th>train_loss</th>\n",
              "      <th>valid_loss</th>\n",
              "      <th>accuracy</th>\n",
              "      <th>time</th>\n",
              "    </tr>\n",
              "  </thead>\n",
              "  <tbody>\n",
              "    <tr>\n",
              "      <td>0</td>\n",
              "      <td>4.272850</td>\n",
              "      <td>4.243399</td>\n",
              "      <td>0.272256</td>\n",
              "      <td>2:06:08</td>\n",
              "    </tr>\n",
              "  </tbody>\n",
              "</table>"
            ],
            "text/plain": [
              "<IPython.core.display.HTML object>"
            ]
          },
          "metadata": {
            "tags": []
          }
        }
      ]
    },
    {
      "cell_type": "code",
      "metadata": {
        "id": "jml4IR3kTt3s",
        "colab_type": "code",
        "colab": {}
      },
      "source": [
        "learn.save_encoder('ft_enc')"
      ],
      "execution_count": 0,
      "outputs": []
    },
    {
      "cell_type": "code",
      "metadata": {
        "id": "uAhHud9L5Ujf",
        "colab_type": "code",
        "outputId": "e241b44a-a99f-49b2-d400-2a0a072d19b1",
        "colab": {
          "base_uri": "https://localhost:8080/",
          "height": 34
        }
      },
      "source": [
        "learn.predict(\"この映画はなかなか\", n_words=10)"
      ],
      "execution_count": 27,
      "outputs": [
        {
          "output_type": "execute_result",
          "data": {
            "text/plain": [
              "'この映画はなかなか <unk> 物語 を <unk> しても 、 よく 原作 に 驚'"
            ]
          },
          "metadata": {
            "tags": []
          },
          "execution_count": 27
        }
      ]
    },
    {
      "cell_type": "code",
      "metadata": {
        "id": "cJwJGDoK4XGH",
        "colab_type": "code",
        "outputId": "39e5a058-fa04-4773-8fdf-ce96bce56b40",
        "colab": {
          "base_uri": "https://localhost:8080/",
          "height": 1000
        }
      },
      "source": [
        "classifier = text_classifier_learner(data_clas, AWD_LSTM, pretrained=False, drop_mult=0.5)\n",
        "classifier.load_pretrained(wgts_fname=path/'models'/'qrnn_wt-2.pth', itos_fname=path/'models'/'itos_wt-2.pkl', strict=False) \n",
        "classifier.load_encoder('ft_enc')"
      ],
      "execution_count": 28,
      "outputs": [
        {
          "output_type": "execute_result",
          "data": {
            "text/plain": [
              "RNNLearner(data=TextClasDataBunch;\n",
              "\n",
              "Train: LabelList (7999 items)\n",
              "x: TextList\n",
              "▁ xxbos ▁「 面 白 かった 。 」 と 映画 が <unk> から 素 直 に <unk> ことができ <unk> 。 人に 面 白い 映画 として 勧め られる 映画 だ <unk> ます 。 <unk> が いい です 。 <unk> の <unk> ではなく <unk> オリジナル <unk> <unk> しょう か 。 よく 練 り こ まれ て る な と 感じ <unk> 。 しかし 、 その 分 、 話 が 複雑 になっている の で 、 見 ている 間 は 頭 フル 回転 って 感じ です 。 前半 の 説明 が <unk> ち 大 事 になって <unk> ます の で 、 <unk> 頭 に 入れ とき ま しょう 。 後半 は <unk> 的な 映像 と アクション 、 また 、 夢 に入って 、 また 入 って ・ ・ ・ と 息 つく <unk> <unk> エンディング という 感じ <unk> 、 長い 上映 時間 の 割り に <unk> 感じ <unk> 。 ▁ 映像 に関して です が これ また 迫 <unk> あ って いい 。 夢 <unk> 意味 の 分 から ないこと の オン <unk> <unk> <unk> 新 鮮 。 それが 夢 の中 と 理解 して 見 ている の で 自然 と <unk> る ことができ ます 。 b d や <unk> <unk> <unk> ら じ <unk> り <unk> み たい ! と 思 える ような 映像 です 。 ▁ 少し 残 念 だった の は 、 <unk> の ディ カ プリ オ か <unk> れ <unk> 。 個人 的には 好きな 俳優 です し 、 <unk> の 映画 でも 主人公 の 苦 悩 を よく 表現 されて た とは 思い ます が 、 <unk> ど <unk> で 見 たこと ある ような 感じ が して 、 <unk> 残 念 で した 。 ▁ とう とう 分 から なかった の は 、 ネット でも よく 質問 され <unk> が 最後 ら へ ん に サイト ー が <unk> か 年 を と っていた か ということ 。 それに 結局 <unk> ディ カ プリ オ が た <unk> 着 いた 世界 が 現実 <unk> 夢 の中 <unk> 。 これ に関しては 映画 の中に <unk> し <unk> ヒン ト があった <unk> <unk> れ <unk> 。 映画 を まだ 見 ていない という 人は 、 そこ ら 変 に 気 を使って <unk> み て は い か が で しょう か ? ▁ 見 所 は <unk> 夢 <unk> 現実 に帰 るために 「 ジャンプ 」 する シーン がある の です が 、 夢 の中で いろ いろ ハ プ ニング が <unk> 、 それが 一 筋 縄 には い かない <unk> す かね 。 思 わず <unk> <unk> を 握 ってしまう シーン だ <unk> ます 。 ▁ 話題 ではなく 、 映画 の中 身 で 勝負 した ような 本作 。 文 句 なし に 面 白 かった です 。 星 5 つ,▁ xxbos ▁ 試 写 会 で <unk> 。 ▁ <unk> だろう 、 ア ヒル も お も <unk> かった の に <unk> か 期待 <unk> 観 てしまう 。 や っと <unk> <unk> した 。 ▁ 伊 坂 幸 太郎 と 中村 義 洋 の コンビ は お も <unk> い 。 ▁ 逆に これ から の ハード ル は <unk> しまう な 、 わ た し 個人 の 。 ▁ まず 壮 大 <unk> 。 ▁ そんな 、 <unk> 大臣 暗殺 って 、 壮 大な <unk> アクション 映画 み たい な こと 邦 画 で できる わけ ない 、 という 先 入 観 。 ▁ <unk> が なん か <unk> <unk> として て 実 は 策 士 <unk> 頼 り ない <unk> <unk> め ない 主人公 の 堺 雅 人 さん って <unk> また そんな わけ ない 。 ▁ そこ を <unk> 裏 <unk> て の め り こ ませ る <unk> は アクション とも <unk> ペン ス とも <unk> 映画 とも コメディ <unk> 、 <unk> に 負け ない <unk> の 邦 画 になっていた 。 ▁ ところ <unk> に 笑 える 要素 がある の <unk> た し の大 好きな ところ だ 。 ▁ 特に シリア ス で 暗 <unk> が ち な 後半 になって 笑 える ポイント が多く な ってくる の が み そ 。 ▁ あい まい な 終わり 方 だ と言う 人 もいる 。 ▁ 聞き 逃 さない 、 見 逃 さない 、 疑 う 、 信 じ <unk> 話 が <unk> <unk> 。 ▁ 話 が つ な が れば お も <unk> い に 繋 が る 。,▁ xxbos ▁ 見 <unk> 後の 、 <unk> の 空気 は 最 悪 で した ね 。 寝 て る 人 多数 、 <unk> 楽 し そう では あり <unk> 。 ▁ 泣 いて る 人 ? ? ? いる わけ あり <unk> 。 ジ ブリ 、 高 畑 、 前 <unk> という <unk> で 、 その 場 では 、 ▁ 感 想 を 正 直 に 言う こと <unk> ない 、 そんな <unk> で した 。 ▁ みな さん 、 どう 思い <unk> か ? <unk> 文化 や 歴史 を 大 切 に される 方 には 、 イ <unk> と <unk> 映画 だった の ではない で しょう か 。 ▁ 原作 <unk> ぐ や 姫 では 、 親 孝 行 で 、 <unk> に 親 し み 、 <unk> な 生活 <unk> 様子 が 描かれ 、 ▁ そんな <unk> <unk> 、 月 へ 帰 ら なければ ない ということ が 、 悲 み だった <unk> です 。 ▁しかし 、 この 映画 は 違い <unk> よ ね 。 ▁ か ぐ や 姫 が <unk> だった の は 、 ほん の <unk> 時 、 時間 にして 、 た った 二 、 三 ヶ月 の 幼少 時代 。 ▁ それ以外 は 、 すべて 、 不 <unk> です 。 ▁ 5 人の 貴族 から の 求 婚 エピソード では 、 か ぐ や 姫 は <unk> し <unk> で した ね 。 ▁ 本来 、 貴族 へ <unk> <unk> 難 題 は 、 か ぐ や 姫 の 機 転 の 聞 いた 物語 だった <unk> です 。 ▁しかし 、 映画 <unk> 、 貴族 自身が 言 った ことを 、 繰り返し た だけ に変更 され <unk> 。 ▁ 帝 から の 求 愛 については 、 原作 にある ような <unk> <unk> <unk> 、 ▁ 帝 を <unk> 下 品 に 描写 し 、 その 帝 を 、 映画 を通して 一番 感情 が 出された ▁ 嫌 悪 感 た <unk> り の <unk> で 、 か ぐ や 姫 は <unk> し ます 。 ▁ 一方で 、 原作 に ない 、 捨 六 という 人物 を 、 か ぐ や 姫 <unk> <unk> 定 し <unk> 。 ▁ 盗 み を <unk> も 、 か ぐ や 姫 は 、 彼は 精 一 杯 生き ている ! と <unk> 定 的に 解釈 し ます 。 ▁ 捨 六 は 、 妻 と <unk> 捨て て 、 か ぐ や 姫 と 不 倫 する わけ です が 、 それを 良 し と 表現 し <unk> 。 ▁ <unk> <unk> が出 てきた <unk> シーン 、 か ぐ や 姫 は 、 地球 は 汚 れ ていない 、 <unk> ます 。 ▁ でも 、 ここで 言う 汚 れ ていない ところ という の は 、 <unk> だけで しょう ? ▁ ほか は 、 月に <unk> た くなる 嫌 悪 すべき もので す 。 ▁ 感 動 は どこ に もあり <unk> で した よ 。 ▁ 酷 い もので した 。,▁ xxbos <unk> 的には ... は あ ? ? て いう <unk> <unk> あり <unk> 。 ▁ 主人公 が あまり にも 調 子 良 すぎ て <unk> ム カ ついた 。 ▁ でも <unk> 映像 は 素 晴 ら <unk> の です 。 ▁ 主人公 よりも m j や <unk> が 可 <unk> 想 で した 。 ▁ 元 祖 アメリカン ヒーロー って 感じ です かね 。,▁ xxbos ▁ 良 かった ! パン フ で 金 子 監督 が 語 るように 、 原作 では <unk> l と 月 という 2 人の 「 子ども 」 を受け 止め る 存在 があった と 感じ <unk> 。 それが 、 救 われた 部分 という 風 に 感じ たり ・ ・ ・ ▁ 元々 <unk> が 好き で <unk> へ 足 を <unk> <unk> が 、 映画 では 人間 的な 部分 や 感情 が よく 描かれ て る <unk> <unk> 。 最後 レッ <unk> の ス ノ ウ の 歌詞 が 月 、 l どちら のもの とも <unk> ように 思い 号 泣 <unk> <unk> ・ ・ ・ ▁ 大きな テーマ の 「 <unk> とは <unk> という ところ も 完全に 答え を出 してしまう の で <unk> 、 か <unk> 逃げ る わけではない 上 手 な 終わり 方 だった <unk> ます 。 ▁ 出演者 の 方 は 演技 が 上 手 く て <unk> 絶 妙 ! ▁ 最初 イメージ 違う か も ? <unk> 方 も <unk> したが 、 顔 が 似ている <unk> <unk> さん より 全 然 良 かった <unk> <unk> 。\n",
              "y: CategoryList\n",
              "positive,positive,negative,positive,positive\n",
              "Path: drive/My Drive/data;\n",
              "\n",
              "Valid: LabelList (2001 items)\n",
              "x: TextList\n",
              "▁ xxbos ▁ 前作 から 12 年ぶりの シリーズ 第 4 弾 、 ▁ 監督 レン ・ ワイ ズ マン と 脚本 マーク ・ ボン バック の コンビ は ▁ <unk> 12 年 「 トー タル ・ リ コール 」 で 再び 実現 、 ▁ <unk> の 当時は お 2 人 とも 30 <unk> 若 さ です 。 ▁ シリーズ ものであり ながら 前 3 作 とは 違う 監督 と <unk> さん の ▁ 違う 趣 き って 感じ <unk> で <unk> は 全米 を <unk> に さ <unk> サイ バー テロ 、 ▁ <unk> ハ ッカー の マ シュー ( ジャ ス ティン ・ ロング ) を f <unk> <unk> に 連 行 する 途中 ▁ 襲 われ て 巻き 込まれ ていく マク レーン 刑事 ( <unk> ・ ウィ リス ) 。 <unk> <unk> <unk> <unk> を も 手 玉 に <unk> サイ バー テロ 集団 <unk> ▁ マ シュー の 力を 借り て 敵 の <unk> を <unk> 止め <unk> マク レーン 、 ▁ 娘 ルー シー ( <unk> ・ エリザベス ・ ウィン ス <unk> ) が ▁ <unk> に と られる ものの 、 ▁ マ シュー <unk> 陰 で <unk> 居 場所 を 突き 止め ます 。 ▁ 歴代 大統領 の 映像 を 繋 ぎ <unk> 独立 記念 日の <unk> <unk> 、 ▁ アメリカ <unk> が 交通 網 から 通信 網 、 電気 まで 操 られて ▁ 車 で の 敵 <unk> と の トンネル で の バトル 、 ▁ 大型 <unk> ラー への <unk> で の 戦闘機 <unk> と か 、 ▁ いった い どう や って 撮影 する んだ ろ って いう 驚 き の シーン の 連続 。 ▁ 娘 の ルー シー <unk> <unk> は 「 ファイナル ・ <unk> ・ コース ター 」 ▁ で <unk> だった 17 3 <unk> の 長 身 の 美 女 、 ▁ け っ して <unk> 言 を 言 わない ルー シー の キ モ チ の <unk> が パ パ ゆ ず り で ▁ 足 手 ま と い <unk> か パ パ に 力 を与える ような 存在 として 、 ▁ ふ <unk> は 口 も 利 かない <unk> パ パ を 深く 信頼 して る 娘 の よう す が ▁ <unk> で なん でも 状況 説明 してしまう 日本の ドラマ と 違 って ▁ き ち ん と 見 ていて 伝 わり <unk> 。 ▁ マク レーン <unk> こそ <unk> を超える 方法 で 敵 <unk> 向 か える 感じ 、 ▁ 彼の <unk> さ は ピン チ を 乗り 越え て なん と か する チ カラ 、 ▁ そして マ シュー の存在 なく して って いう ほど 重要な 相 棒 み たい な ▁ 役割 を果たす ジャ ス ティン ・ ロング も ステ キ です 。 ▁ 映像 で の <unk> 場 も多く て 脚本 も シリーズ 随 一 、 ▁ シリーズ 最高 の ヒット を記録した の もう な づけ る 内容 、 ▁ ただ <unk> 約束 の マン ネ リ な シリーズ ものと は 一 <unk> 画 した ▁ 見 ご た え のある 作品 です 。,▁ xxbos ▁ <unk> 映画 通 の 人は べ た <unk> め <unk> 映画 だが 、 ▁ <unk> 受け <unk> しない 映画 だろう 。 ▁ <unk> 映画 通 の 人を <unk> させる オ ナ ニー 映画 。 ▁「 この 良 さ <unk> かん ない かな ～ 」 って ▁ <unk> 映画 通 の 人は 熱 く 語 る であろう 。 ▁ 自分 は 気 分 <unk> なる し つ まん ない 内容 だった 。,▁ xxbos ▁ <unk> を見て <unk> のような <unk> でも 人を 裁 く ことに 限界 がある と 感じ た 。 ま して や 裁判 員 制度 <unk> ら 素 人は <unk> な 判断 が 下 せる <unk> がない 。 <unk> のように 証拠 や 証言 を 重要 視 する あまり <unk> 罪 <unk> り 、 逆に 有 能 な 弁護士 の 話 術 により <unk> の 判決 を 言い 渡 したり しない か 危 <unk> する 。 ▁ <unk> 漢 に 間 違 われ ないため には 満 員 電車 に 乗 らない に こ した <unk> が 、 若い 女性 の <unk> に 立 た ないこと 、 や む 終 えない 時は 両 手 を挙げ て <unk> こと ぐ らい か 。 究 極 は 女性 専用 車 と 増 や し 男女 を <unk> <unk> だろう 。 ▁ <unk> 罪 も 怖 い が 、 <unk> になる べき 人が <unk> になり 、 更に <unk> を重ね 被害者 を作り 出す の も 怖 い 。 <unk> ・ <unk> が 言 っている 。 「 人を 裁 く こと な かれ 。 <unk> 裁 かれ ないため に 。 」 裁判 員 制度 の 危 う さ <unk> る 。,▁ xxbos ▁ <unk> ビデオ で ランキング 上位 だった の で 借り て <unk> <unk> 、 失敗 で した 。 ▁ <unk> があった 事 もあり 、 <unk> <unk> だけ ど 、 地 <unk> や <unk> 、 建物 の 崩壊 の 映像 が き つ かった です 。 ▁ それに 、 主人公 を始め 、 それ を取り 巻 く <unk> など にも 共 感 できなかった 。 その <unk> が “ <unk> の 方 舟 ” み たい な の <unk> 込む までに 、 異常 な 景 色 を見て 、 色 ん な 人 達 が 死 んで <unk> く の を 目の 当たり して る の に 、 子供 達 も <unk> も 結 構 冷 静 に み えた 。 ▁ 後半 で 、 “ 現 ” 夫 が <unk> 後 、 危機 を 助け た から <unk> 妻 が “ 元 ” 夫 に 意 外 に ア ッサ リ 戻 り そう な 所 も 、 微 妙 。 ▁ <unk> 最後 も 、 船 の 甲板 <unk> 、 地球 の 変わり <unk> た 景 色 を見 ている の に 、 晴 々 した 音楽 と 演出 に 感じ た の が 嫌 で した 。 ▁( 大 震災 の 時 テレビ 越 し で <unk> 地 <unk> 時 、 <unk> <unk> で 落ち 込んだ の に ) ▁ 全体 的に <unk> <unk> が <unk> って いて 、 <unk> で <unk> ら 迫 力 がある の だろう <unk> 、 例 え 地震 のこと <unk> ても ... <unk> 人 達 ( 金 持ち か 位 <unk> 人 達 ) が この 危機 を 乗り 越え る 話 自体 、 <unk> なかった です 。,▁ xxbos ▁ 別 に <unk> では あり <unk> が 。 ▁ 前後 編 な の は 最初 から 決 ま っていた ことで す 。 ▁ ま あ 、「 仮 に 」 <unk> だった としても どちら に <unk> 、 あ そこで <unk> よ かった <unk> ます 。 ▁ 原作 通り に や っていた ら ダ ラ ダ ラ の グ ダ グ ダ です <unk> 。\n",
              "y: CategoryList\n",
              "positive,negative,positive,negative,positive\n",
              "Path: drive/My Drive/data;\n",
              "\n",
              "Test: None, model=SequentialRNN(\n",
              "  (0): MultiBatchEncoder(\n",
              "    (module): AWD_LSTM(\n",
              "      (encoder): Embedding(8000, 400, padding_idx=1)\n",
              "      (encoder_dp): EmbeddingDropout(\n",
              "        (emb): Embedding(8000, 400, padding_idx=1)\n",
              "      )\n",
              "      (rnns): ModuleList(\n",
              "        (0): WeightDropout(\n",
              "          (module): LSTM(400, 1152, batch_first=True)\n",
              "        )\n",
              "        (1): WeightDropout(\n",
              "          (module): LSTM(1152, 1152, batch_first=True)\n",
              "        )\n",
              "        (2): WeightDropout(\n",
              "          (module): LSTM(1152, 400, batch_first=True)\n",
              "        )\n",
              "      )\n",
              "      (input_dp): RNNDropout()\n",
              "      (hidden_dps): ModuleList(\n",
              "        (0): RNNDropout()\n",
              "        (1): RNNDropout()\n",
              "        (2): RNNDropout()\n",
              "      )\n",
              "    )\n",
              "  )\n",
              "  (1): PoolingLinearClassifier(\n",
              "    (layers): Sequential(\n",
              "      (0): BatchNorm1d(1200, eps=1e-05, momentum=0.1, affine=True, track_running_stats=True)\n",
              "      (1): Dropout(p=0.2)\n",
              "      (2): Linear(in_features=1200, out_features=50, bias=True)\n",
              "      (3): ReLU(inplace)\n",
              "      (4): BatchNorm1d(50, eps=1e-05, momentum=0.1, affine=True, track_running_stats=True)\n",
              "      (5): Dropout(p=0.1)\n",
              "      (6): Linear(in_features=50, out_features=2, bias=True)\n",
              "    )\n",
              "  )\n",
              "), opt_func=functools.partial(<class 'torch.optim.adam.Adam'>, betas=(0.9, 0.99)), loss_func=FlattenedLoss of CrossEntropyLoss(), metrics=[<function accuracy at 0x7ff3888700d0>], true_wd=True, bn_wd=True, wd=0.01, train_bn=True, path=PosixPath('drive/My Drive/data'), model_dir='models', callback_fns=[functools.partial(<class 'fastai.basic_train.Recorder'>, add_time=True, silent=False)], callbacks=[RNNTrainer\n",
              "learn: RNNLearner(data=TextClasDataBunch;\n",
              "\n",
              "Train: LabelList (7999 items)\n",
              "x: TextList\n",
              "▁ xxbos ▁「 面 白 かった 。 」 と 映画 が <unk> から 素 直 に <unk> ことができ <unk> 。 人に 面 白い 映画 として 勧め られる 映画 だ <unk> ます 。 <unk> が いい です 。 <unk> の <unk> ではなく <unk> オリジナル <unk> <unk> しょう か 。 よく 練 り こ まれ て る な と 感じ <unk> 。 しかし 、 その 分 、 話 が 複雑 になっている の で 、 見 ている 間 は 頭 フル 回転 って 感じ です 。 前半 の 説明 が <unk> ち 大 事 になって <unk> ます の で 、 <unk> 頭 に 入れ とき ま しょう 。 後半 は <unk> 的な 映像 と アクション 、 また 、 夢 に入って 、 また 入 って ・ ・ ・ と 息 つく <unk> <unk> エンディング という 感じ <unk> 、 長い 上映 時間 の 割り に <unk> 感じ <unk> 。 ▁ 映像 に関して です が これ また 迫 <unk> あ って いい 。 夢 <unk> 意味 の 分 から ないこと の オン <unk> <unk> <unk> 新 鮮 。 それが 夢 の中 と 理解 して 見 ている の で 自然 と <unk> る ことができ ます 。 b d や <unk> <unk> <unk> ら じ <unk> り <unk> み たい ! と 思 える ような 映像 です 。 ▁ 少し 残 念 だった の は 、 <unk> の ディ カ プリ オ か <unk> れ <unk> 。 個人 的には 好きな 俳優 です し 、 <unk> の 映画 でも 主人公 の 苦 悩 を よく 表現 されて た とは 思い ます が 、 <unk> ど <unk> で 見 たこと ある ような 感じ が して 、 <unk> 残 念 で した 。 ▁ とう とう 分 から なかった の は 、 ネット でも よく 質問 され <unk> が 最後 ら へ ん に サイト ー が <unk> か 年 を と っていた か ということ 。 それに 結局 <unk> ディ カ プリ オ が た <unk> 着 いた 世界 が 現実 <unk> 夢 の中 <unk> 。 これ に関しては 映画 の中に <unk> し <unk> ヒン ト があった <unk> <unk> れ <unk> 。 映画 を まだ 見 ていない という 人は 、 そこ ら 変 に 気 を使って <unk> み て は い か が で しょう か ? ▁ 見 所 は <unk> 夢 <unk> 現実 に帰 るために 「 ジャンプ 」 する シーン がある の です が 、 夢 の中で いろ いろ ハ プ ニング が <unk> 、 それが 一 筋 縄 には い かない <unk> す かね 。 思 わず <unk> <unk> を 握 ってしまう シーン だ <unk> ます 。 ▁ 話題 ではなく 、 映画 の中 身 で 勝負 した ような 本作 。 文 句 なし に 面 白 かった です 。 星 5 つ,▁ xxbos ▁ 試 写 会 で <unk> 。 ▁ <unk> だろう 、 ア ヒル も お も <unk> かった の に <unk> か 期待 <unk> 観 てしまう 。 や っと <unk> <unk> した 。 ▁ 伊 坂 幸 太郎 と 中村 義 洋 の コンビ は お も <unk> い 。 ▁ 逆に これ から の ハード ル は <unk> しまう な 、 わ た し 個人 の 。 ▁ まず 壮 大 <unk> 。 ▁ そんな 、 <unk> 大臣 暗殺 って 、 壮 大な <unk> アクション 映画 み たい な こと 邦 画 で できる わけ ない 、 という 先 入 観 。 ▁ <unk> が なん か <unk> <unk> として て 実 は 策 士 <unk> 頼 り ない <unk> <unk> め ない 主人公 の 堺 雅 人 さん って <unk> また そんな わけ ない 。 ▁ そこ を <unk> 裏 <unk> て の め り こ ませ る <unk> は アクション とも <unk> ペン ス とも <unk> 映画 とも コメディ <unk> 、 <unk> に 負け ない <unk> の 邦 画 になっていた 。 ▁ ところ <unk> に 笑 える 要素 がある の <unk> た し の大 好きな ところ だ 。 ▁ 特に シリア ス で 暗 <unk> が ち な 後半 になって 笑 える ポイント が多く な ってくる の が み そ 。 ▁ あい まい な 終わり 方 だ と言う 人 もいる 。 ▁ 聞き 逃 さない 、 見 逃 さない 、 疑 う 、 信 じ <unk> 話 が <unk> <unk> 。 ▁ 話 が つ な が れば お も <unk> い に 繋 が る 。,▁ xxbos ▁ 見 <unk> 後の 、 <unk> の 空気 は 最 悪 で した ね 。 寝 て る 人 多数 、 <unk> 楽 し そう では あり <unk> 。 ▁ 泣 いて る 人 ? ? ? いる わけ あり <unk> 。 ジ ブリ 、 高 畑 、 前 <unk> という <unk> で 、 その 場 では 、 ▁ 感 想 を 正 直 に 言う こと <unk> ない 、 そんな <unk> で した 。 ▁ みな さん 、 どう 思い <unk> か ? <unk> 文化 や 歴史 を 大 切 に される 方 には 、 イ <unk> と <unk> 映画 だった の ではない で しょう か 。 ▁ 原作 <unk> ぐ や 姫 では 、 親 孝 行 で 、 <unk> に 親 し み 、 <unk> な 生活 <unk> 様子 が 描かれ 、 ▁ そんな <unk> <unk> 、 月 へ 帰 ら なければ ない ということ が 、 悲 み だった <unk> です 。 ▁しかし 、 この 映画 は 違い <unk> よ ね 。 ▁ か ぐ や 姫 が <unk> だった の は 、 ほん の <unk> 時 、 時間 にして 、 た った 二 、 三 ヶ月 の 幼少 時代 。 ▁ それ以外 は 、 すべて 、 不 <unk> です 。 ▁ 5 人の 貴族 から の 求 婚 エピソード では 、 か ぐ や 姫 は <unk> し <unk> で した ね 。 ▁ 本来 、 貴族 へ <unk> <unk> 難 題 は 、 か ぐ や 姫 の 機 転 の 聞 いた 物語 だった <unk> です 。 ▁しかし 、 映画 <unk> 、 貴族 自身が 言 った ことを 、 繰り返し た だけ に変更 され <unk> 。 ▁ 帝 から の 求 愛 については 、 原作 にある ような <unk> <unk> <unk> 、 ▁ 帝 を <unk> 下 品 に 描写 し 、 その 帝 を 、 映画 を通して 一番 感情 が 出された ▁ 嫌 悪 感 た <unk> り の <unk> で 、 か ぐ や 姫 は <unk> し ます 。 ▁ 一方で 、 原作 に ない 、 捨 六 という 人物 を 、 か ぐ や 姫 <unk> <unk> 定 し <unk> 。 ▁ 盗 み を <unk> も 、 か ぐ や 姫 は 、 彼は 精 一 杯 生き ている ! と <unk> 定 的に 解釈 し ます 。 ▁ 捨 六 は 、 妻 と <unk> 捨て て 、 か ぐ や 姫 と 不 倫 する わけ です が 、 それを 良 し と 表現 し <unk> 。 ▁ <unk> <unk> が出 てきた <unk> シーン 、 か ぐ や 姫 は 、 地球 は 汚 れ ていない 、 <unk> ます 。 ▁ でも 、 ここで 言う 汚 れ ていない ところ という の は 、 <unk> だけで しょう ? ▁ ほか は 、 月に <unk> た くなる 嫌 悪 すべき もので す 。 ▁ 感 動 は どこ に もあり <unk> で した よ 。 ▁ 酷 い もので した 。,▁ xxbos <unk> 的には ... は あ ? ? て いう <unk> <unk> あり <unk> 。 ▁ 主人公 が あまり にも 調 子 良 すぎ て <unk> ム カ ついた 。 ▁ でも <unk> 映像 は 素 晴 ら <unk> の です 。 ▁ 主人公 よりも m j や <unk> が 可 <unk> 想 で した 。 ▁ 元 祖 アメリカン ヒーロー って 感じ です かね 。,▁ xxbos ▁ 良 かった ! パン フ で 金 子 監督 が 語 るように 、 原作 では <unk> l と 月 という 2 人の 「 子ども 」 を受け 止め る 存在 があった と 感じ <unk> 。 それが 、 救 われた 部分 という 風 に 感じ たり ・ ・ ・ ▁ 元々 <unk> が 好き で <unk> へ 足 を <unk> <unk> が 、 映画 では 人間 的な 部分 や 感情 が よく 描かれ て る <unk> <unk> 。 最後 レッ <unk> の ス ノ ウ の 歌詞 が 月 、 l どちら のもの とも <unk> ように 思い 号 泣 <unk> <unk> ・ ・ ・ ▁ 大きな テーマ の 「 <unk> とは <unk> という ところ も 完全に 答え を出 してしまう の で <unk> 、 か <unk> 逃げ る わけではない 上 手 な 終わり 方 だった <unk> ます 。 ▁ 出演者 の 方 は 演技 が 上 手 く て <unk> 絶 妙 ! ▁ 最初 イメージ 違う か も ? <unk> 方 も <unk> したが 、 顔 が 似ている <unk> <unk> さん より 全 然 良 かった <unk> <unk> 。\n",
              "y: CategoryList\n",
              "positive,positive,negative,positive,positive\n",
              "Path: drive/My Drive/data;\n",
              "\n",
              "Valid: LabelList (2001 items)\n",
              "x: TextList\n",
              "▁ xxbos ▁ 前作 から 12 年ぶりの シリーズ 第 4 弾 、 ▁ 監督 レン ・ ワイ ズ マン と 脚本 マーク ・ ボン バック の コンビ は ▁ <unk> 12 年 「 トー タル ・ リ コール 」 で 再び 実現 、 ▁ <unk> の 当時は お 2 人 とも 30 <unk> 若 さ です 。 ▁ シリーズ ものであり ながら 前 3 作 とは 違う 監督 と <unk> さん の ▁ 違う 趣 き って 感じ <unk> で <unk> は 全米 を <unk> に さ <unk> サイ バー テロ 、 ▁ <unk> ハ ッカー の マ シュー ( ジャ ス ティン ・ ロング ) を f <unk> <unk> に 連 行 する 途中 ▁ 襲 われ て 巻き 込まれ ていく マク レーン 刑事 ( <unk> ・ ウィ リス ) 。 <unk> <unk> <unk> <unk> を も 手 玉 に <unk> サイ バー テロ 集団 <unk> ▁ マ シュー の 力を 借り て 敵 の <unk> を <unk> 止め <unk> マク レーン 、 ▁ 娘 ルー シー ( <unk> ・ エリザベス ・ ウィン ス <unk> ) が ▁ <unk> に と られる ものの 、 ▁ マ シュー <unk> 陰 で <unk> 居 場所 を 突き 止め ます 。 ▁ 歴代 大統領 の 映像 を 繋 ぎ <unk> 独立 記念 日の <unk> <unk> 、 ▁ アメリカ <unk> が 交通 網 から 通信 網 、 電気 まで 操 られて ▁ 車 で の 敵 <unk> と の トンネル で の バトル 、 ▁ 大型 <unk> ラー への <unk> で の 戦闘機 <unk> と か 、 ▁ いった い どう や って 撮影 する んだ ろ って いう 驚 き の シーン の 連続 。 ▁ 娘 の ルー シー <unk> <unk> は 「 ファイナル ・ <unk> ・ コース ター 」 ▁ で <unk> だった 17 3 <unk> の 長 身 の 美 女 、 ▁ け っ して <unk> 言 を 言 わない ルー シー の キ モ チ の <unk> が パ パ ゆ ず り で ▁ 足 手 ま と い <unk> か パ パ に 力 を与える ような 存在 として 、 ▁ ふ <unk> は 口 も 利 かない <unk> パ パ を 深く 信頼 して る 娘 の よう す が ▁ <unk> で なん でも 状況 説明 してしまう 日本の ドラマ と 違 って ▁ き ち ん と 見 ていて 伝 わり <unk> 。 ▁ マク レーン <unk> こそ <unk> を超える 方法 で 敵 <unk> 向 か える 感じ 、 ▁ 彼の <unk> さ は ピン チ を 乗り 越え て なん と か する チ カラ 、 ▁ そして マ シュー の存在 なく して って いう ほど 重要な 相 棒 み たい な ▁ 役割 を果たす ジャ ス ティン ・ ロング も ステ キ です 。 ▁ 映像 で の <unk> 場 も多く て 脚本 も シリーズ 随 一 、 ▁ シリーズ 最高 の ヒット を記録した の もう な づけ る 内容 、 ▁ ただ <unk> 約束 の マン ネ リ な シリーズ ものと は 一 <unk> 画 した ▁ 見 ご た え のある 作品 です 。,▁ xxbos ▁ <unk> 映画 通 の 人は べ た <unk> め <unk> 映画 だが 、 ▁ <unk> 受け <unk> しない 映画 だろう 。 ▁ <unk> 映画 通 の 人を <unk> させる オ ナ ニー 映画 。 ▁「 この 良 さ <unk> かん ない かな ～ 」 って ▁ <unk> 映画 通 の 人は 熱 く 語 る であろう 。 ▁ 自分 は 気 分 <unk> なる し つ まん ない 内容 だった 。,▁ xxbos ▁ <unk> を見て <unk> のような <unk> でも 人を 裁 く ことに 限界 がある と 感じ た 。 ま して や 裁判 員 制度 <unk> ら 素 人は <unk> な 判断 が 下 せる <unk> がない 。 <unk> のように 証拠 や 証言 を 重要 視 する あまり <unk> 罪 <unk> り 、 逆に 有 能 な 弁護士 の 話 術 により <unk> の 判決 を 言い 渡 したり しない か 危 <unk> する 。 ▁ <unk> 漢 に 間 違 われ ないため には 満 員 電車 に 乗 らない に こ した <unk> が 、 若い 女性 の <unk> に 立 た ないこと 、 や む 終 えない 時は 両 手 を挙げ て <unk> こと ぐ らい か 。 究 極 は 女性 専用 車 と 増 や し 男女 を <unk> <unk> だろう 。 ▁ <unk> 罪 も 怖 い が 、 <unk> になる べき 人が <unk> になり 、 更に <unk> を重ね 被害者 を作り 出す の も 怖 い 。 <unk> ・ <unk> が 言 っている 。 「 人を 裁 く こと な かれ 。 <unk> 裁 かれ ないため に 。 」 裁判 員 制度 の 危 う さ <unk> る 。,▁ xxbos ▁ <unk> ビデオ で ランキング 上位 だった の で 借り て <unk> <unk> 、 失敗 で した 。 ▁ <unk> があった 事 もあり 、 <unk> <unk> だけ ど 、 地 <unk> や <unk> 、 建物 の 崩壊 の 映像 が き つ かった です 。 ▁ それに 、 主人公 を始め 、 それ を取り 巻 く <unk> など にも 共 感 できなかった 。 その <unk> が “ <unk> の 方 舟 ” み たい な の <unk> 込む までに 、 異常 な 景 色 を見て 、 色 ん な 人 達 が 死 んで <unk> く の を 目の 当たり して る の に 、 子供 達 も <unk> も 結 構 冷 静 に み えた 。 ▁ 後半 で 、 “ 現 ” 夫 が <unk> 後 、 危機 を 助け た から <unk> 妻 が “ 元 ” 夫 に 意 外 に ア ッサ リ 戻 り そう な 所 も 、 微 妙 。 ▁ <unk> 最後 も 、 船 の 甲板 <unk> 、 地球 の 変わり <unk> た 景 色 を見 ている の に 、 晴 々 した 音楽 と 演出 に 感じ た の が 嫌 で した 。 ▁( 大 震災 の 時 テレビ 越 し で <unk> 地 <unk> 時 、 <unk> <unk> で 落ち 込んだ の に ) ▁ 全体 的に <unk> <unk> が <unk> って いて 、 <unk> で <unk> ら 迫 力 がある の だろう <unk> 、 例 え 地震 のこと <unk> ても ... <unk> 人 達 ( 金 持ち か 位 <unk> 人 達 ) が この 危機 を 乗り 越え る 話 自体 、 <unk> なかった です 。,▁ xxbos ▁ 別 に <unk> では あり <unk> が 。 ▁ 前後 編 な の は 最初 から 決 ま っていた ことで す 。 ▁ ま あ 、「 仮 に 」 <unk> だった としても どちら に <unk> 、 あ そこで <unk> よ かった <unk> ます 。 ▁ 原作 通り に や っていた ら ダ ラ ダ ラ の グ ダ グ ダ です <unk> 。\n",
              "y: CategoryList\n",
              "positive,negative,positive,negative,positive\n",
              "Path: drive/My Drive/data;\n",
              "\n",
              "Test: None, model=SequentialRNN(\n",
              "  (0): MultiBatchEncoder(\n",
              "    (module): AWD_LSTM(\n",
              "      (encoder): Embedding(8000, 400, padding_idx=1)\n",
              "      (encoder_dp): EmbeddingDropout(\n",
              "        (emb): Embedding(8000, 400, padding_idx=1)\n",
              "      )\n",
              "      (rnns): ModuleList(\n",
              "        (0): WeightDropout(\n",
              "          (module): LSTM(400, 1152, batch_first=True)\n",
              "        )\n",
              "        (1): WeightDropout(\n",
              "          (module): LSTM(1152, 1152, batch_first=True)\n",
              "        )\n",
              "        (2): WeightDropout(\n",
              "          (module): LSTM(1152, 400, batch_first=True)\n",
              "        )\n",
              "      )\n",
              "      (input_dp): RNNDropout()\n",
              "      (hidden_dps): ModuleList(\n",
              "        (0): RNNDropout()\n",
              "        (1): RNNDropout()\n",
              "        (2): RNNDropout()\n",
              "      )\n",
              "    )\n",
              "  )\n",
              "  (1): PoolingLinearClassifier(\n",
              "    (layers): Sequential(\n",
              "      (0): BatchNorm1d(1200, eps=1e-05, momentum=0.1, affine=True, track_running_stats=True)\n",
              "      (1): Dropout(p=0.2)\n",
              "      (2): Linear(in_features=1200, out_features=50, bias=True)\n",
              "      (3): ReLU(inplace)\n",
              "      (4): BatchNorm1d(50, eps=1e-05, momentum=0.1, affine=True, track_running_stats=True)\n",
              "      (5): Dropout(p=0.1)\n",
              "      (6): Linear(in_features=50, out_features=2, bias=True)\n",
              "    )\n",
              "  )\n",
              "), opt_func=functools.partial(<class 'torch.optim.adam.Adam'>, betas=(0.9, 0.99)), loss_func=FlattenedLoss of CrossEntropyLoss(), metrics=[<function accuracy at 0x7ff3888700d0>], true_wd=True, bn_wd=True, wd=0.01, train_bn=True, path=PosixPath('drive/My Drive/data'), model_dir='models', callback_fns=[functools.partial(<class 'fastai.basic_train.Recorder'>, add_time=True, silent=False)], callbacks=[...], layer_groups=[Sequential(\n",
              "  (0): Embedding(8000, 400, padding_idx=1)\n",
              "  (1): EmbeddingDropout(\n",
              "    (emb): Embedding(8000, 400, padding_idx=1)\n",
              "  )\n",
              "), Sequential(\n",
              "  (0): WeightDropout(\n",
              "    (module): LSTM(400, 1152, batch_first=True)\n",
              "  )\n",
              "  (1): RNNDropout()\n",
              "), Sequential(\n",
              "  (0): WeightDropout(\n",
              "    (module): LSTM(1152, 1152, batch_first=True)\n",
              "  )\n",
              "  (1): RNNDropout()\n",
              "), Sequential(\n",
              "  (0): WeightDropout(\n",
              "    (module): LSTM(1152, 400, batch_first=True)\n",
              "  )\n",
              "  (1): RNNDropout()\n",
              "), Sequential(\n",
              "  (0): PoolingLinearClassifier(\n",
              "    (layers): Sequential(\n",
              "      (0): BatchNorm1d(1200, eps=1e-05, momentum=0.1, affine=True, track_running_stats=True)\n",
              "      (1): Dropout(p=0.2)\n",
              "      (2): Linear(in_features=1200, out_features=50, bias=True)\n",
              "      (3): ReLU(inplace)\n",
              "      (4): BatchNorm1d(50, eps=1e-05, momentum=0.1, affine=True, track_running_stats=True)\n",
              "      (5): Dropout(p=0.1)\n",
              "      (6): Linear(in_features=50, out_features=2, bias=True)\n",
              "    )\n",
              "  )\n",
              ")], add_time=True, silent=False, cb_fns_registered=False)\n",
              "alpha: 2.0\n",
              "beta: 1.0], layer_groups=[Sequential(\n",
              "  (0): Embedding(8000, 400, padding_idx=1)\n",
              "  (1): EmbeddingDropout(\n",
              "    (emb): Embedding(8000, 400, padding_idx=1)\n",
              "  )\n",
              "), Sequential(\n",
              "  (0): WeightDropout(\n",
              "    (module): LSTM(400, 1152, batch_first=True)\n",
              "  )\n",
              "  (1): RNNDropout()\n",
              "), Sequential(\n",
              "  (0): WeightDropout(\n",
              "    (module): LSTM(1152, 1152, batch_first=True)\n",
              "  )\n",
              "  (1): RNNDropout()\n",
              "), Sequential(\n",
              "  (0): WeightDropout(\n",
              "    (module): LSTM(1152, 400, batch_first=True)\n",
              "  )\n",
              "  (1): RNNDropout()\n",
              "), Sequential(\n",
              "  (0): PoolingLinearClassifier(\n",
              "    (layers): Sequential(\n",
              "      (0): BatchNorm1d(1200, eps=1e-05, momentum=0.1, affine=True, track_running_stats=True)\n",
              "      (1): Dropout(p=0.2)\n",
              "      (2): Linear(in_features=1200, out_features=50, bias=True)\n",
              "      (3): ReLU(inplace)\n",
              "      (4): BatchNorm1d(50, eps=1e-05, momentum=0.1, affine=True, track_running_stats=True)\n",
              "      (5): Dropout(p=0.1)\n",
              "      (6): Linear(in_features=50, out_features=2, bias=True)\n",
              "    )\n",
              "  )\n",
              ")], add_time=True, silent=False, cb_fns_registered=False)"
            ]
          },
          "metadata": {
            "tags": []
          },
          "execution_count": 28
        }
      ]
    },
    {
      "cell_type": "code",
      "metadata": {
        "id": "fq1-NCB06gvL",
        "colab_type": "code",
        "outputId": "431cc5d7-44c0-4d64-8b26-1df8990b43f7",
        "colab": {
          "base_uri": "https://localhost:8080/",
          "height": 80
        }
      },
      "source": [
        "classifier.fit_one_cycle(1, 1e-2)"
      ],
      "execution_count": 29,
      "outputs": [
        {
          "output_type": "display_data",
          "data": {
            "text/html": [
              "<table border=\"1\" class=\"dataframe\">\n",
              "  <thead>\n",
              "    <tr style=\"text-align: left;\">\n",
              "      <th>epoch</th>\n",
              "      <th>train_loss</th>\n",
              "      <th>valid_loss</th>\n",
              "      <th>accuracy</th>\n",
              "      <th>time</th>\n",
              "    </tr>\n",
              "  </thead>\n",
              "  <tbody>\n",
              "    <tr>\n",
              "      <td>0</td>\n",
              "      <td>0.577836</td>\n",
              "      <td>0.508297</td>\n",
              "      <td>0.756122</td>\n",
              "      <td>1:00:52</td>\n",
              "    </tr>\n",
              "  </tbody>\n",
              "</table>"
            ],
            "text/plain": [
              "<IPython.core.display.HTML object>"
            ]
          },
          "metadata": {
            "tags": []
          }
        }
      ]
    },
    {
      "cell_type": "code",
      "metadata": {
        "id": "LtslLaU77vhc",
        "colab_type": "code",
        "outputId": "3331d53c-75b9-4b0f-ed11-9c898abefd15",
        "colab": {
          "base_uri": "https://localhost:8080/",
          "height": 80
        }
      },
      "source": [
        "classifier.freeze_to(-2)\n",
        "classifier.fit_one_cycle(1, slice(5e-3/2., 5e-3))"
      ],
      "execution_count": 30,
      "outputs": [
        {
          "output_type": "display_data",
          "data": {
            "text/html": [
              "<table border=\"1\" class=\"dataframe\">\n",
              "  <thead>\n",
              "    <tr style=\"text-align: left;\">\n",
              "      <th>epoch</th>\n",
              "      <th>train_loss</th>\n",
              "      <th>valid_loss</th>\n",
              "      <th>accuracy</th>\n",
              "      <th>time</th>\n",
              "    </tr>\n",
              "  </thead>\n",
              "  <tbody>\n",
              "    <tr>\n",
              "      <td>0</td>\n",
              "      <td>0.429069</td>\n",
              "      <td>0.360367</td>\n",
              "      <td>0.837581</td>\n",
              "      <td>1:10:35</td>\n",
              "    </tr>\n",
              "  </tbody>\n",
              "</table>"
            ],
            "text/plain": [
              "<IPython.core.display.HTML object>"
            ]
          },
          "metadata": {
            "tags": []
          }
        }
      ]
    },
    {
      "cell_type": "code",
      "metadata": {
        "id": "y6SXTYeEK-MN",
        "colab_type": "code",
        "colab": {}
      },
      "source": [
        "classifier.save('chckpoint')"
      ],
      "execution_count": 0,
      "outputs": []
    },
    {
      "cell_type": "code",
      "metadata": {
        "id": "AQeAijzTsSuD",
        "colab_type": "code",
        "colab": {}
      },
      "source": [
        "classifier.load('chckpoint');"
      ],
      "execution_count": 0,
      "outputs": []
    },
    {
      "cell_type": "code",
      "metadata": {
        "id": "zLIFf7KTsdiM",
        "colab_type": "code",
        "colab": {}
      },
      "source": [
        "interp = ClassificationInterpretation.from_learner(classifier)"
      ],
      "execution_count": 0,
      "outputs": []
    },
    {
      "cell_type": "code",
      "metadata": {
        "id": "g_J-uE3SskWW",
        "colab_type": "code",
        "outputId": "cbd60ded-e553-4f32-f943-66c442bd8435",
        "colab": {
          "base_uri": "https://localhost:8080/",
          "height": 310
        }
      },
      "source": [
        "interp.plot_confusion_matrix()"
      ],
      "execution_count": 34,
      "outputs": [
        {
          "output_type": "display_data",
          "data": {
            "image/png": "[encoded data removed]",
            "text/plain": [
              "<Figure size 432x288 with 1 Axes>"
            ]
          },
          "metadata": {
            "tags": []
          }
        }
      ]
    },
    {
      "cell_type": "code",
      "metadata": {
        "id": "9QU8ApNI7zr-",
        "colab_type": "code",
        "outputId": "a16ff0ba-1c11-4929-b93e-8c72303c936b",
        "colab": {
          "base_uri": "https://localhost:8080/",
          "height": 34
        }
      },
      "source": [
        "classifier.predict(\"すごく面白い映画です。\")"
      ],
      "execution_count": 35,
      "outputs": [
        {
          "output_type": "execute_result",
          "data": {
            "text/plain": [
              "(Category positive, tensor(1), tensor([3.5251e-05, 9.9996e-01]))"
            ]
          },
          "metadata": {
            "tags": []
          },
          "execution_count": 35
        }
      ]
    },
    {
      "cell_type": "code",
      "metadata": {
        "id": "kNW4q8GQ8d3D",
        "colab_type": "code",
        "outputId": "c50c222c-32c7-4a23-8311-4203750596e1",
        "colab": {
          "base_uri": "https://localhost:8080/",
          "height": 34
        }
      },
      "source": [
        "classifier.predict(\"この映画好きじゃない。\")"
      ],
      "execution_count": 36,
      "outputs": [
        {
          "output_type": "execute_result",
          "data": {
            "text/plain": [
              "(Category negative, tensor(0), tensor([0.9190, 0.0810]))"
            ]
          },
          "metadata": {
            "tags": []
          },
          "execution_count": 36
        }
      ]
    },
    {
      "cell_type": "code",
      "metadata": {
        "id": "xlE9X5RyyL-Y",
        "colab_type": "code",
        "colab": {
          "base_uri": "https://localhost:8080/",
          "height": 529
        },
        "outputId": "0be4ab4e-2a53-49b5-8e1c-3be0f8f6ec37"
      },
      "source": [
        "txt_ci = TextClassificationInterpretation.from_learner(classifier)\n",
        "txt_ci.show_top_losses(10)"
      ],
      "execution_count": 37,
      "outputs": [
        {
          "output_type": "display_data",
          "data": {
            "text/html": [
              "<table border=\"1\" class=\"dataframe\">\n",
              "  <thead>\n",
              "    <tr style=\"text-align: right;\">\n",
              "      <th>Text</th>\n",
              "      <th>Prediction</th>\n",
              "      <th>Actual</th>\n",
              "      <th>Loss</th>\n",
              "      <th>Probability</th>\n",
              "    </tr>\n",
              "  </thead>\n",
              "  <tbody>\n",
              "    <tr>\n",
              "      <td>▁ xxbos ▁ か ぐ や 姫 が 、 地上 に 降り &lt;unk&gt; 、 地上 に 強く &lt;unk&gt; れた という ” 罪 ” に対する ” 罰 ” だった 。 という 映画 だった んだ &lt;unk&gt; 、 &lt;unk&gt; 、 罪 でも 罰 でも なかった ん &lt;unk&gt; かな 、 &lt;unk&gt; &lt;unk&gt; 。 地上 に 降り たい と 強く 願 った から 、 それが かな え られた 。 ということ &lt;unk&gt; かな 、 と 。</td>\n",
              "      <td>positive</td>\n",
              "      <td>positive</td>\n",
              "      <td>5.30</td>\n",
              "      <td>1.00</td>\n",
              "    </tr>\n",
              "    <tr>\n",
              "      <td>▁ xxbos ▁ あまり に 評価 が高い の で 、 ▁ &lt;unk&gt; 注意 &lt;unk&gt; 起 の &lt;unk&gt; &lt;unk&gt; させて も らい ます 。 ▁ 参考 までに 、 お 読み 下 さい 。 ▁ 本作 は 、 おそらく 中 高 生 向け ( オン リー ) に 作られた 作品 だ &lt;unk&gt; ます 。 ▁ &lt;unk&gt; 、 私 のような 中 年 &lt;unk&gt; じ さん 等 では 、 ▁ &lt;unk&gt; &lt;unk&gt; に た</td>\n",
              "      <td>positive</td>\n",
              "      <td>negative</td>\n",
              "      <td>4.89</td>\n",
              "      <td>0.01</td>\n",
              "    </tr>\n",
              "    <tr>\n",
              "      <td>▁ xxbos ▁この 映画 を 観 ている &lt;unk&gt; 、 &lt;unk&gt; は 一つ だけ な の に 小さな 事実 を &lt;unk&gt; ると 、 別の &lt;unk&gt; を作り 上げ てしまう という 裁判 の &lt;unk&gt; 点 を 知 り &lt;unk&gt; 。 ▁「 &lt;unk&gt; 」「 被害者 」 それぞれ 別の &lt;unk&gt; から 見る と 、 &lt;unk&gt; &lt;unk&gt; な の だろう と 感じ る 。 ▁ そして それぞれ が &lt;unk&gt; に 自分の 訴え て &lt;unk&gt; &lt;unk&gt; て</td>\n",
              "      <td>negative</td>\n",
              "      <td>positive</td>\n",
              "      <td>4.77</td>\n",
              "      <td>0.01</td>\n",
              "    </tr>\n",
              "    <tr>\n",
              "      <td>▁ xxbos ▁ アメリカ は ほん と &lt;unk&gt; 映画 好き です ね &lt;unk&gt; 。 ▁ ニューヨーク = &lt;unk&gt; って 考え方 も あい かわ らず で 。 他にも 国 は ある &lt;unk&gt; &lt;unk&gt; ね 。 ▁ &lt;unk&gt; は 円 谷 の ウルトラ &lt;unk&gt; &lt;unk&gt; まだ 高い ように 思い ます 。 ▁ 怪 しい &lt;unk&gt; と 真 夜 中に 突然 大量 に入る 投票 も 合わせて 、 もう い &lt;unk&gt; &lt;unk&gt; ? って</td>\n",
              "      <td>positive</td>\n",
              "      <td>negative</td>\n",
              "      <td>4.22</td>\n",
              "      <td>0.01</td>\n",
              "    </tr>\n",
              "    <tr>\n",
              "      <td>▁ xxbos ▁「 &lt;unk&gt; 大な 時間 と 手 間 &lt;unk&gt; 」 が テーマ になっている ような 気 が し ます 。 ▁ そんな 事 &lt;unk&gt; で 観 &lt;unk&gt; どう &lt;unk&gt; と ・ ・ ・ 。 ▁ 観 て 楽 しい 、 感 動 するという の が 基本 だと した ら どう なん だろう ? ▁ そう いう &lt;unk&gt; 方 もある か &lt;unk&gt; れ &lt;unk&gt; が 。 ▁「 す ご い 有名な</td>\n",
              "      <td>positive</td>\n",
              "      <td>negative</td>\n",
              "      <td>4.00</td>\n",
              "      <td>0.02</td>\n",
              "    </tr>\n",
              "    <tr>\n",
              "      <td>▁ xxbos ▁ 個人 の 見解 です が はっきり 言 って つ ま らなかった &lt;unk&gt; ます 。 &lt;unk&gt; が 意味 無く ご ちゃ ご ちゃ し すぎ だと 感じ &lt;unk&gt; 。 ▁ &lt;unk&gt; なら 、 この ご ちゃ ご ちゃ 感 の一つ 一つ が 意味 を な して ▁ 違 和 感 無く 、 &lt;unk&gt; に &lt;unk&gt; &lt;unk&gt; 快 な 所 が この &lt;unk&gt; 良い ▁ 点 な の に</td>\n",
              "      <td>positive</td>\n",
              "      <td>negative</td>\n",
              "      <td>3.78</td>\n",
              "      <td>0.02</td>\n",
              "    </tr>\n",
              "    <tr>\n",
              "      <td>▁ xxbos ▁ 原作 未 読 で 、 観 て き &lt;unk&gt; 。 本 を &lt;unk&gt; 自由 ・ ・ ・ &lt;unk&gt; 考え たこと は あり &lt;unk&gt; で した 。 ▁ 色 々 な &lt;unk&gt; が &lt;unk&gt; &lt;unk&gt; 決 ま ってしまう 怖 さ 、 &lt;unk&gt; 政治 に 関心 を 持 た なければ 、 映画 のような 時代 が &lt;unk&gt; &lt;unk&gt; 、 歴史 さえ &lt;unk&gt; られ てしまう &lt;unk&gt; 、 考え させ られ &lt;unk&gt;</td>\n",
              "      <td>positive</td>\n",
              "      <td>positive</td>\n",
              "      <td>3.62</td>\n",
              "      <td>0.97</td>\n",
              "    </tr>\n",
              "    <tr>\n",
              "      <td>▁ xxbos ▁ 前 &lt;unk&gt; ( 作られた もの ? ) 、 期待 感 が 強 かった だけ に 、 が &lt;unk&gt; り 。 &lt;unk&gt; の シリーズ 中 ▁ 最低 &lt;unk&gt; ではない で しょう か 。 u f o ? も ▁ &lt;unk&gt; も 陳 腐 。 シナリオ 自体 の 失敗 では ▁xx rep ▁4 ▁ ・ ▁ 。 あまり 退 屈 で ▁ &lt;unk&gt; 寝 てしまい &lt;unk&gt; 。 期待 が</td>\n",
              "      <td>negative</td>\n",
              "      <td>negative</td>\n",
              "      <td>3.33</td>\n",
              "      <td>0.96</td>\n",
              "    </tr>\n",
              "    <tr>\n",
              "      <td>▁ xxbos ▁ い や ー 、 &lt;unk&gt; ク ▁ 映画 が 平均 4 以上 って 、 ここ の &lt;unk&gt; の レベル の 低 さ に び &lt;unk&gt; り だ ね 。 ▁ &lt;unk&gt; 爆発 して 車 で ビュー ンド &lt;unk&gt; バ &lt;unk&gt; って や って れば 楽 しい んだ ね 。 ▁ アクション 映画 観 て 寝 た の &lt;unk&gt; &lt;unk&gt; e &lt;unk&gt; ed 2 以来 。</td>\n",
              "      <td>negative</td>\n",
              "      <td>negative</td>\n",
              "      <td>3.31</td>\n",
              "      <td>0.96</td>\n",
              "    </tr>\n",
              "    <tr>\n",
              "      <td>▁ xxbos ▁ &lt;unk&gt; める わけ でも &lt;unk&gt; す わけ で もない が 、 これは &lt;unk&gt; 楽 映画 ではない 。 ▁ &lt;unk&gt; 真 面 目 。 ▁ 真 剣 に 問題 &lt;unk&gt; して 、 真 剣 に 訴え &lt;unk&gt; している 映画 。 ▁ 面 白い と か 面 白 &lt;unk&gt; と か 言う の は &lt;unk&gt; ナン &lt;unk&gt; だ 。 ▁ これが &lt;unk&gt; です 、 と ▁ あり あり と</td>\n",
              "      <td>negative</td>\n",
              "      <td>positive</td>\n",
              "      <td>3.30</td>\n",
              "      <td>0.04</td>\n",
              "    </tr>\n",
              "  </tbody>\n",
              "</table>"
            ],
            "text/plain": [
              "<IPython.core.display.HTML object>"
            ]
          },
          "metadata": {
            "tags": []
          }
        }
      ]
    }
  ]
}